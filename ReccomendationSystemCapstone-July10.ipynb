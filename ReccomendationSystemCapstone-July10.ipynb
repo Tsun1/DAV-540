{
 "cells": [
  {
   "cell_type": "code",
   "execution_count": 1,
   "metadata": {
    "collapsed": true
   },
   "outputs": [],
   "source": [
    "import numpy as np\n",
    "\n",
    "# construct an array\n",
    "# rows are eight different users\n",
    "# columns are ten different movies\n",
    "arr = np.array([[5.0,0,0,5,4.5,4.5,0,4.5,0,0],\n",
    "               [4.5,0,0,2,0,0,4.5,3,3.5,0],\n",
    "               [4,0,0,2,0,0,4.5,3,3.5,0],\n",
    "               [4.5,4,5,0,0,2.5,4,0,0,4.5],\n",
    "               [0,3,4,0,3,0,0,3.5,3.5,4.5],\n",
    "               [0,3.5,0,3.5,0,4,0,4,4,4],\n",
    "               [0,2.5,4,3.5,0,0,3.5,0,0,3.5],\n",
    "               [4.5,4.5,4,0,0,0,0,0,0,4]])\n",
    "\n",
    "# user names\n",
    "users=np.array(['Mary','Leonard','Rachel','Chandler',\n",
    "                'Phoeby','Monica','Ross','Joey'])\n",
    "# movie names\n",
    "movies=np.array([\"Forrest Gump\",\"Iron Man\",\"Matrix\",\n",
    "                 \"Doraemon\",\"Kunfu Panda\",\n",
    "                 \"Legally Blond\",\"Brave Heart\",\"Frozen\",\n",
    "                 \"Departed\",\"Advengers\"])  "
   ]
  },
  {
   "cell_type": "code",
   "execution_count": 2,
   "metadata": {},
   "outputs": [
    {
     "data": {
      "text/plain": [
       "3.8333333333333335"
      ]
     },
     "execution_count": 2,
     "metadata": {},
     "output_type": "execute_result"
    }
   ],
   "source": [
    "# Global baseline approach\n",
    "\n",
    "# Calculate the overal average ratings\n",
    "cnt = (arr>0).sum()\n",
    "ave = arr.sum()/cnt\n",
    "ave"
   ]
  },
  {
   "cell_type": "code",
   "execution_count": 3,
   "metadata": {},
   "outputs": [
    {
     "data": {
      "text/plain": [
       "array([ 0.66666667, -0.33333333,  0.41666667, -0.63333333, -0.08333333,\n",
       "       -0.16666667,  0.29166667, -0.23333333, -0.20833333,  0.26666667])"
      ]
     },
     "execution_count": 3,
     "metadata": {},
     "output_type": "execute_result"
    }
   ],
   "source": [
    "# calculate bias for each movie\n",
    "sum0=arr.sum(0)\n",
    "cnt0=(arr>0).sum(0)\n",
    "bi = sum0/cnt0-ave\n",
    "bi"
   ]
  },
  {
   "cell_type": "code",
   "execution_count": 4,
   "metadata": {},
   "outputs": [
    {
     "data": {
      "text/plain": [
       "array([ 0.87      , -0.33      , -0.43      ,  0.25277778, -0.24722222,\n",
       "        0.00277778, -0.43      ,  0.42083333])"
      ]
     },
     "execution_count": 4,
     "metadata": {},
     "output_type": "execute_result"
    }
   ],
   "source": [
    "# calculate bias for each user\n",
    "a=np.ones(8)\n",
    "c = np.dot(a[:, None], bi[None, :]) \n",
    "\n",
    "diff=arr-c\n",
    "sum1 = diff.sum(1)\n",
    "cnt1 = (arr>0).sum(1)\n",
    "bu = sum1/cnt1-ave\n",
    "bu"
   ]
  },
  {
   "cell_type": "code",
   "execution_count": 5,
   "metadata": {},
   "outputs": [
    {
     "data": {
      "text/plain": [
       "array([[ 0.        ,  4.37      ,  5.12      ,  0.        ,  0.        ,\n",
       "         0.        ,  4.995     ,  0.        ,  4.495     ,  4.97      ],\n",
       "       [ 0.        ,  3.17      ,  3.92      ,  0.        ,  3.42      ,\n",
       "         3.33666667,  0.        ,  0.        ,  0.        ,  3.77      ],\n",
       "       [ 0.        ,  3.07      ,  3.82      ,  0.        ,  3.32      ,\n",
       "         3.23666667,  0.        ,  0.        ,  0.        ,  3.67      ],\n",
       "       [ 0.        ,  0.        ,  0.        ,  3.45277778,  4.00277778,\n",
       "         0.        ,  0.        ,  3.85277778,  3.87777778,  0.        ],\n",
       "       [ 4.25277778,  0.        ,  0.        ,  2.95277778,  0.        ,\n",
       "         3.41944444,  3.87777778,  0.        ,  0.        ,  0.        ],\n",
       "       [ 4.50277778,  0.        ,  4.25277778,  0.        ,  3.75277778,\n",
       "         0.        ,  4.12777778,  0.        ,  0.        ,  0.        ],\n",
       "       [ 4.07      ,  0.        ,  0.        ,  0.        ,  3.32      ,\n",
       "         3.23666667,  0.        ,  3.17      ,  3.195     ,  0.        ],\n",
       "       [ 0.        ,  0.        ,  0.        ,  3.62083333,  4.17083333,\n",
       "         4.0875    ,  4.54583333,  4.02083333,  4.04583333,  0.        ]])"
      ]
     },
     "execution_count": 5,
     "metadata": {},
     "output_type": "execute_result"
    }
   ],
   "source": [
    "# predict those items that has no ratings\n",
    "\n",
    "a=np.ones(10)\n",
    "cc = np.dot(bu[:, None], a[None, :]) \n",
    "\n",
    "pred = (ave+c+cc)*(arr<1)\n",
    "pred"
   ]
  },
  {
   "cell_type": "code",
   "execution_count": 6,
   "metadata": {},
   "outputs": [
    {
     "data": {
      "text/plain": [
       "array(['Matrix', 'Matrix', 'Matrix', 'Kunfu Panda', 'Forrest Gump',\n",
       "       'Forrest Gump', 'Forrest Gump', 'Brave Heart'], \n",
       "      dtype='<U13')"
      ]
     },
     "execution_count": 6,
     "metadata": {},
     "output_type": "execute_result"
    }
   ],
   "source": [
    "# For each user, recommend the movie with the highest rating\n",
    "argmax1=np.argmax(pred, axis=1)\n",
    "movies[argmax1]"
   ]
  },
  {
   "cell_type": "code",
   "execution_count": 7,
   "metadata": {
    "collapsed": true
   },
   "outputs": [],
   "source": [
    "# calculate consine similarity\n",
    "def cos_dis(rating1, rating2):\n",
    "    \n",
    "    # getting the common part\n",
    "    mask=(rating1>0) & (rating2>0)\n",
    "    if np.size(mask)==0:\n",
    "        return 0\n",
    "    \n",
    "    #print(arr1)\n",
    "    #print(arr2)\n",
    "    \n",
    "    a1=np.linalg.norm(rating1)\n",
    "    a2=np.linalg.norm(rating2)\n",
    "    \n",
    "    return np.dot(rating1, rating2)/(a1*a2)   "
   ]
  },
  {
   "cell_type": "code",
   "execution_count": 8,
   "metadata": {
    "scrolled": true
   },
   "outputs": [
    {
     "data": {
      "text/plain": [
       "array([[  1.49e-154,   5.39e-001,   5.27e-001,   3.15e-001,   3.13e-001,\n",
       "          5.40e-001,   2.16e-001,   2.51e-001],\n",
       "       [  5.39e-001,   0.00e+000,   9.99e-001,   4.63e-001,   3.16e-001,\n",
       "          4.33e-001,   3.65e-001,   2.93e-001],\n",
       "       [  5.27e-001,   9.99e-001,   2.27e-314,   4.51e-001,   3.27e-001,\n",
       "          4.47e-001,   3.78e-001,   2.70e-001],\n",
       "       [  3.15e-001,   4.63e-001,   4.51e-001,   0.00e+000,   5.78e-001,\n",
       "          4.38e-001,   7.64e-001,   8.79e-001],\n",
       "       [  3.13e-001,   3.16e-001,   3.27e-001,   5.78e-001,   0.00e+000,\n",
       "          6.77e-001,   5.76e-001,   6.29e-001],\n",
       "       [  5.40e-001,   4.33e-001,   4.47e-001,   4.38e-001,   6.77e-001,\n",
       "          0.00e+000,   4.84e-001,   3.96e-001],\n",
       "       [  2.16e-001,   3.65e-001,   3.78e-001,   7.64e-001,   5.76e-001,\n",
       "          4.84e-001,   0.00e+000,   6.31e-001],\n",
       "       [  2.51e-001,   2.93e-001,   2.70e-001,   8.79e-001,   6.29e-001,\n",
       "          3.96e-001,   6.31e-001,   0.00e+000]])"
      ]
     },
     "execution_count": 8,
     "metadata": {},
     "output_type": "execute_result"
    }
   ],
   "source": [
    "# user-based simlarity matrix using cosine similarity\n",
    "\n",
    "N=arr.shape[0]\n",
    "simMat = np.empty([N,N])\n",
    "for i in range(N):\n",
    "    for j in range(N-1-i):\n",
    "        sim=cos_dis(arr[i],arr[i+1+j])\n",
    "        \n",
    "        #print(i,i+1+j)        \n",
    "        simMat[i][i+1+j]=sim\n",
    "        simMat[i+1+j][i]=sim\n",
    "\n",
    "np.set_printoptions(precision=2)\n",
    "simMat"
   ]
  },
  {
   "cell_type": "code",
   "execution_count": 9,
   "metadata": {},
   "outputs": [
    {
     "data": {
      "text/plain": [
       "array([[ 0.  ,  1.64,  0.82,  0.  ,  0.  ,  0.  ,  3.15,  0.  ,  3.07,\n",
       "         1.86],\n",
       "       [ 0.  ,  1.38,  0.95,  0.  ,  1.  ,  2.18,  0.  ,  0.  ,  0.  ,\n",
       "         1.57],\n",
       "       [ 0.  ,  1.39,  0.93,  0.  ,  0.98,  2.18,  0.  ,  0.  ,  0.  ,\n",
       "         1.58],\n",
       "       [ 0.  ,  0.  ,  0.  ,  1.34,  0.65,  0.  ,  0.  ,  1.27,  1.36,  0.  ],\n",
       "       [ 2.21,  0.  ,  0.  ,  1.78,  0.  ,  1.69,  1.76,  0.  ,  0.  ,  0.  ],\n",
       "       [ 2.09,  0.  ,  2.16,  0.  ,  2.08,  0.  ,  1.73,  0.  ,  0.  ,  0.  ],\n",
       "       [ 2.56,  0.  ,  0.  ,  0.  ,  0.7 ,  1.57,  0.  ,  1.61,  1.61,  0.  ],\n",
       "       [ 0.  ,  0.  ,  0.  ,  1.42,  0.74,  1.49,  2.26,  1.49,  1.49,  0.  ]])"
      ]
     },
     "execution_count": 9,
     "metadata": {},
     "output_type": "execute_result"
    }
   ],
   "source": [
    "# user-based collaborative filtering\n",
    "# predict the unknown ratings\n",
    "\n",
    "N=arr.shape[0]\n",
    "M=arr.shape[1]\n",
    "\n",
    "pred_cf = np.empty([N,M])\n",
    "for i in range(N):\n",
    "    for j in range(M):\n",
    "        if arr[i][j]==0:\n",
    "            b = np.argsort(simMat[i])\n",
    "            rate = (arr[b[N-1]][j]*simMat[i][b[N-1]]\n",
    "                    +arr[b[N-2]][j]*simMat[i][b[N-2]]\n",
    "                    +arr[b[N-3]][j]*simMat[i][b[N-3]]\n",
    "                    +arr[b[N-4]][j]*simMat[i][b[N-4]])/(simMat[i][b[N-1]]+simMat[i][b[N-2]]+simMat[i][b[N-3]]+simMat[i][b[N-4]])\n",
    "            \n",
    "            pred_cf[i][j]=rate\n",
    "pred_cf          "
   ]
  },
  {
   "cell_type": "code",
   "execution_count": 10,
   "metadata": {},
   "outputs": [
    {
     "data": {
      "text/plain": [
       "array([[  1.49e-154,   4.75e-001,   4.70e-001,   5.49e-001,   4.12e-001,\n",
       "          5.13e-001,   6.73e-001,   5.84e-001,   4.06e-001,   4.12e-001],\n",
       "       [  4.75e-001,   0.00e+000,   8.80e-001,   3.47e-001,   2.08e-001,\n",
       "          4.61e-001,   3.74e-001,   3.76e-001,   4.22e-001,   9.83e-001],\n",
       "       [  4.70e-001,   8.80e-001,   0.00e+000,   2.16e-001,   2.60e-001,\n",
       "          2.24e-001,   4.80e-001,   2.01e-001,   2.26e-001,   8.96e-001],\n",
       "       [  5.49e-001,   3.47e-001,   2.16e-001,   0.00e+000,   5.49e-001,\n",
       "          7.38e-001,   4.81e-001,   7.84e-001,   5.08e-001,   3.76e-001],\n",
       "       [  4.12e-001,   2.08e-001,   2.60e-001,   5.49e-001,   0.00e+000,\n",
       "          5.74e-001,   0.00e+000,   6.97e-001,   2.67e-001,   2.71e-001],\n",
       "       [  5.13e-001,   4.61e-001,   2.24e-001,   7.38e-001,   5.74e-001,\n",
       "          0.00e+000,   1.85e-001,   6.82e-001,   3.38e-001,   4.54e-001],\n",
       "       [  6.73e-001,   3.74e-001,   4.80e-001,   4.81e-001,   0.00e+000,\n",
       "          1.85e-001,   3.15e+293,   3.99e-001,   5.23e-001,   3.96e-001],\n",
       "       [  5.84e-001,   3.76e-001,   2.01e-001,   7.84e-001,   6.97e-001,\n",
       "          6.82e-001,   3.99e-001,   0.00e+000,   8.32e-001,   4.23e-001],\n",
       "       [  4.06e-001,   4.22e-001,   2.26e-001,   5.08e-001,   2.67e-001,\n",
       "          3.38e-001,   5.23e-001,   8.32e-001,   5.79e-084,   4.75e-001],\n",
       "       [  4.12e-001,   9.83e-001,   8.96e-001,   3.76e-001,   2.71e-001,\n",
       "          4.54e-001,   3.96e-001,   4.23e-001,   4.75e-001,   2.19e-314]])"
      ]
     },
     "execution_count": 10,
     "metadata": {},
     "output_type": "execute_result"
    }
   ],
   "source": [
    "# item-based simlarity matrix\n",
    "# using cosine similarity\n",
    "\n",
    "M=arr.shape[1]\n",
    "simMat_m = np.empty([M,M])\n",
    "for i in range(M):\n",
    "    for j in range(M-1-i):\n",
    "        sim=cos_dis(arr[:,i],arr[:,i+1+j])\n",
    "        \n",
    "        #print(i,i+1+j)        \n",
    "        simMat_m[i][i+1+j]=sim\n",
    "        simMat_m[i+1+j][i]=sim\n",
    "        \n",
    "np.set_printoptions(precision=2)\n",
    "simMat_m"
   ]
  },
  {
   "cell_type": "code",
   "execution_count": 11,
   "metadata": {},
   "outputs": [
    {
     "data": {
      "text/plain": [
       "array([[ 0.  ,  3.54,  2.45,  0.  ,  0.  ,  0.  ,  2.23,  0.  ,  2.52,\n",
       "         3.41],\n",
       "       [ 0.  ,  2.74,  3.53,  0.  ,  2.59,  1.15,  0.  ,  0.  ,  0.  ,\n",
       "         2.71],\n",
       "       [ 0.  ,  2.6 ,  3.36,  0.  ,  2.46,  1.03,  0.  ,  0.  ,  0.  ,  2.6 ],\n",
       "       [ 0.  ,  0.  ,  0.  ,  2.11,  2.05,  0.  ,  0.  ,  2.61,  3.12,  0.  ],\n",
       "       [ 1.65,  0.  ,  0.  ,  1.64,  0.  ,  2.57,  2.73,  0.  ,  0.  ,  0.  ],\n",
       "       [ 2.81,  0.  ,  0.63,  0.  ,  2.72,  0.  ,  2.85,  0.  ,  0.  ,  0.  ],\n",
       "       [ 2.49,  0.  ,  0.  ,  0.  ,  1.91,  1.37,  0.  ,  0.62,  2.48,  0.  ],\n",
       "       [ 0.  ,  0.  ,  0.  ,  1.18,  1.96,  3.1 ,  1.02,  1.81,  3.11,  0.  ]])"
      ]
     },
     "execution_count": 11,
     "metadata": {},
     "output_type": "execute_result"
    }
   ],
   "source": [
    "# item-based collaborative filtering\n",
    "# predict the unknown ratings\n",
    "\n",
    "N=arr.shape[0]\n",
    "M=arr.shape[1]\n",
    "\n",
    "pred_cf_m = np.empty([N,M])\n",
    "for i in range(N):\n",
    "    for j in range(M):\n",
    "        if arr[i][j]==0:\n",
    "            b = np.argsort(simMat_m[j])\n",
    "            rate = (arr[i][b[N-1]]*simMat_m[j][b[N-1]]\n",
    "                    +arr[i][b[N-2]]*simMat_m[j][b[N-2]]\n",
    "                    +arr[i][b[N-3]]*simMat_m[j][b[N-3]]\n",
    "                    +arr[i][b[N-4]]*simMat_m[j][b[N-4]])/(simMat_m[j][b[N-1]]+simMat_m[j][b[N-2]]+simMat_m[j][b[N-3]]+simMat_m[j][b[N-4]])\n",
    "            \n",
    "            pred_cf_m[i][j]=rate\n",
    "\n",
    "pred_cf_m  "
   ]
  },
  {
   "cell_type": "code",
   "execution_count": 12,
   "metadata": {
    "collapsed": true
   },
   "outputs": [],
   "source": [
    "# transfer the user-movie rating matrix into pandas dataframe\n",
    "\n",
    "import pandas as pd\n",
    "\n",
    "df = pd.DataFrame(arr, \n",
    "               index=pd.Index(users, name='Users'),\n",
    "               columns=pd.Index(movies, name='Movies'))\n",
    "\n",
    "result=df.stack()\n",
    "result=pd.DataFrame(result)\n",
    "result.to_csv('stackData.csv')\n",
    "\n"
   ]
  },
  {
   "cell_type": "code",
   "execution_count": 13,
   "metadata": {},
   "outputs": [
    {
     "data": {
      "text/html": [
       "<div>\n",
       "<style>\n",
       "    .dataframe thead tr:only-child th {\n",
       "        text-align: right;\n",
       "    }\n",
       "\n",
       "    .dataframe thead th {\n",
       "        text-align: left;\n",
       "    }\n",
       "\n",
       "    .dataframe tbody tr th {\n",
       "        vertical-align: top;\n",
       "    }\n",
       "</style>\n",
       "<table border=\"1\" class=\"dataframe\">\n",
       "  <thead>\n",
       "    <tr style=\"text-align: right;\">\n",
       "      <th></th>\n",
       "      <th>Users</th>\n",
       "      <th>Movies</th>\n",
       "      <th>Rating</th>\n",
       "    </tr>\n",
       "  </thead>\n",
       "  <tbody>\n",
       "    <tr>\n",
       "      <th>0</th>\n",
       "      <td>Mary</td>\n",
       "      <td>Forrest Gump</td>\n",
       "      <td>5.0</td>\n",
       "    </tr>\n",
       "    <tr>\n",
       "      <th>3</th>\n",
       "      <td>Mary</td>\n",
       "      <td>Doraemon</td>\n",
       "      <td>5.0</td>\n",
       "    </tr>\n",
       "    <tr>\n",
       "      <th>4</th>\n",
       "      <td>Mary</td>\n",
       "      <td>Kunfu Panda</td>\n",
       "      <td>4.5</td>\n",
       "    </tr>\n",
       "    <tr>\n",
       "      <th>5</th>\n",
       "      <td>Mary</td>\n",
       "      <td>Legally Blond</td>\n",
       "      <td>4.5</td>\n",
       "    </tr>\n",
       "    <tr>\n",
       "      <th>7</th>\n",
       "      <td>Mary</td>\n",
       "      <td>Frozen</td>\n",
       "      <td>4.5</td>\n",
       "    </tr>\n",
       "  </tbody>\n",
       "</table>\n",
       "</div>"
      ],
      "text/plain": [
       "  Users         Movies  Rating\n",
       "0  Mary   Forrest Gump     5.0\n",
       "3  Mary       Doraemon     5.0\n",
       "4  Mary    Kunfu Panda     4.5\n",
       "5  Mary  Legally Blond     4.5\n",
       "7  Mary         Frozen     4.5"
      ]
     },
     "execution_count": 13,
     "metadata": {},
     "output_type": "execute_result"
    }
   ],
   "source": [
    "df = pd.read_csv('stackData.csv',sep=',')\n",
    "df.columns=['Users','Movies','Rating']\n",
    "\n",
    "df=df[~df['Rating'].isin([0])]\n",
    "#df=df[~df.iloc[:,2].isin([0])]\n",
    "df.head(5)"
   ]
  },
  {
   "cell_type": "code",
   "execution_count": 14,
   "metadata": {
    "collapsed": true
   },
   "outputs": [],
   "source": [
    "# using surprise package\n",
    "\n",
    "from surprise import NormalPredictor\n",
    "from surprise import Dataset\n",
    "from surprise import Reader\n",
    "from surprise.model_selection import cross_validate\n",
    "\n",
    "# A reader is still needed but only the rating_scale param is requiered.\n",
    "reader = Reader(rating_scale=(1, 5))\n",
    "\n",
    "# The columns must correspond to user id, item id and ratings (in that order).\n",
    "data = Dataset.load_from_df(df[['Users', 'Movies', 'Rating']], reader)\n"
   ]
  },
  {
   "cell_type": "code",
   "execution_count": 15,
   "metadata": {},
   "outputs": [
    {
     "name": "stdout",
     "output_type": "stream",
     "text": [
      "Estimating biases using als...\n"
     ]
    },
    {
     "data": {
      "text/plain": [
       "<surprise.prediction_algorithms.baseline_only.BaselineOnly at 0x111a366d8>"
      ]
     },
     "execution_count": 15,
     "metadata": {},
     "output_type": "execute_result"
    }
   ],
   "source": [
    "# global baseline method\n",
    "\n",
    "from surprise import BaselineOnly, evaluate\n",
    "algo = BaselineOnly()\n",
    "\n",
    "trainset = data.build_full_trainset()\n",
    "algo.fit(trainset)"
   ]
  },
  {
   "cell_type": "code",
   "execution_count": 16,
   "metadata": {},
   "outputs": [
    {
     "data": {
      "text/plain": [
       "array([[ 5.  ,  3.95,  4.18,  5.  ,  4.5 ,  4.5 ,  4.16,  4.5 ,  4.02,\n",
       "         4.15],\n",
       "       [ 4.5 ,  3.64,  3.87,  2.  ,  3.72,  3.69,  4.5 ,  3.  ,  3.5 ,\n",
       "         3.84],\n",
       "       [ 4.  ,  3.62,  3.85,  2.  ,  3.7 ,  3.66,  4.5 ,  3.  ,  3.5 ,\n",
       "         3.82],\n",
       "       [ 4.5 ,  4.  ,  5.  ,  3.68,  3.86,  2.5 ,  4.  ,  3.81,  3.85,  4.5 ],\n",
       "       [ 3.98,  3.  ,  4.  ,  3.56,  3.  ,  3.7 ,  3.86,  3.5 ,  3.5 ,  4.5 ],\n",
       "       [ 4.06,  3.5 ,  3.98,  3.5 ,  3.83,  4.  ,  3.95,  4.  ,  4.  ,  4.  ],\n",
       "       [ 3.94,  2.5 ,  4.  ,  3.5 ,  3.7 ,  3.66,  3.5 ,  3.65,  3.68,  3.5 ],\n",
       "       [ 4.5 ,  4.5 ,  4.  ,  3.7 ,  3.88,  3.84,  4.01,  3.83,  3.86,  4.  ]])"
      ]
     },
     "execution_count": 16,
     "metadata": {},
     "output_type": "execute_result"
    }
   ],
   "source": [
    "# use global baseline method to predict unknown ratings\n",
    "\n",
    "N=arr.shape[0]\n",
    "M=arr.shape[1]\n",
    "\n",
    "pred_base = np.empty([N,M])\n",
    "for i in range(N):\n",
    "    for j in range(M):\n",
    "        if arr[i][j]==0:\n",
    "            uid=users[i]\n",
    "            iid=movies[j]\n",
    "            pred1 = algo.predict(uid, iid, r_ui=4)\n",
    "            pred_base[i][j]=pred1.est\n",
    "\n",
    "pred_base"
   ]
  },
  {
   "cell_type": "code",
   "execution_count": 17,
   "metadata": {},
   "outputs": [
    {
     "name": "stdout",
     "output_type": "stream",
     "text": [
      "Computing the msd similarity matrix...\n",
      "Done computing similarity matrix.\n"
     ]
    },
    {
     "data": {
      "text/plain": [
       "array([[ 0.  ,  3.7 ,  4.18,  0.  ,  0.  ,  0.  ,  4.05,  0.  ,  3.7 ,\n",
       "         4.08],\n",
       "       [ 0.  ,  3.67,  4.28,  0.  ,  3.28,  3.21,  0.  ,  0.  ,  0.  ,\n",
       "         4.19],\n",
       "       [ 0.  ,  3.61,  4.28,  0.  ,  3.27,  3.24,  0.  ,  0.  ,  0.  ,  4.2 ],\n",
       "       [ 0.  ,  0.  ,  0.  ,  2.82,  3.52,  0.  ,  0.  ,  3.42,  3.59,  0.  ],\n",
       "       [ 4.42,  0.  ,  0.  ,  2.93,  0.  ,  3.6 ,  4.17,  0.  ,  0.  ,  0.  ],\n",
       "       [ 4.51,  0.  ,  4.19,  0.  ,  3.59,  0.  ,  4.05,  0.  ,  0.  ,  0.  ],\n",
       "       [ 4.48,  0.  ,  0.  ,  0.  ,  3.46,  3.63,  0.  ,  3.61,  3.66,  0.  ],\n",
       "       [ 0.  ,  0.  ,  0.  ,  3.09,  3.89,  3.69,  4.24,  3.56,  3.61,  0.  ]])"
      ]
     },
     "execution_count": 17,
     "metadata": {},
     "output_type": "execute_result"
    }
   ],
   "source": [
    "# user-based CF method\n",
    "\n",
    "from surprise import KNNBasic\n",
    "algo_user = KNNBasic()\n",
    "algo_user.fit(trainset)\n",
    "\n",
    "# use user-based collaborative filtering method \n",
    "# to predict unknown ratings\n",
    "\n",
    "N=arr.shape[0]\n",
    "M=arr.shape[1]\n",
    "\n",
    "pred_cf_user = np.empty([N,M])\n",
    "for i in range(N):\n",
    "    for j in range(M):\n",
    "        if arr[i][j]==0:\n",
    "            uid=users[i]\n",
    "            iid=movies[j]\n",
    "            \n",
    "            b = algo_user.predict(uid,iid).est \n",
    "            pred_cf_user[i][j] = b\n",
    "\n",
    "pred_cf_user"
   ]
  },
  {
   "cell_type": "code",
   "execution_count": 18,
   "metadata": {},
   "outputs": [
    {
     "name": "stdout",
     "output_type": "stream",
     "text": [
      "Computing the msd similarity matrix...\n",
      "Done computing similarity matrix.\n"
     ]
    },
    {
     "data": {
      "text/plain": [
       "array([[ 0.  ,  4.7 ,  4.76,  0.  ,  0.  ,  0.  ,  4.82,  0.  ,  4.64,\n",
       "         4.79],\n",
       "       [ 0.  ,  3.54,  3.45,  0.  ,  3.24,  3.19,  0.  ,  0.  ,  0.  ,\n",
       "         3.53],\n",
       "       [ 0.  ,  3.42,  3.35,  0.  ,  3.12,  3.14,  0.  ,  0.  ,  0.  ,\n",
       "         3.42],\n",
       "       [ 0.  ,  0.  ,  0.  ,  4.04,  3.88,  0.  ,  0.  ,  3.97,  3.99,  0.  ],\n",
       "       [ 3.6 ,  0.  ,  0.  ,  3.63,  0.  ,  3.42,  3.79,  0.  ,  0.  ,  0.  ],\n",
       "       [ 3.84,  0.  ,  3.84,  0.  ,  3.81,  0.  ,  3.85,  0.  ,  0.  ,  0.  ],\n",
       "       [ 3.37,  0.  ,  0.  ,  0.  ,  3.21,  3.31,  0.  ,  3.37,  3.37,  0.  ],\n",
       "       [ 0.  ,  0.  ,  0.  ,  4.17,  4.35,  4.31,  4.25,  4.23,  4.25,  0.  ]])"
      ]
     },
     "execution_count": 18,
     "metadata": {},
     "output_type": "execute_result"
    }
   ],
   "source": [
    "# item-based CF method\n",
    "\n",
    "algo_item = KNNBasic(sim_options={'user_based': False})\n",
    "algo_item.fit(trainset)\n",
    "\n",
    "# use item-based collaborative filtering method \n",
    "# to predict unknown ratings\n",
    "\n",
    "N=arr.shape[0]\n",
    "M=arr.shape[1]\n",
    "\n",
    "pred_cf_item = np.empty([N,M])\n",
    "for i in range(N):\n",
    "    for j in range(M):\n",
    "        if arr[i][j]==0:\n",
    "            uid=users[i]\n",
    "            iid=movies[j]\n",
    "\n",
    "            b = algo_item.predict(uid,iid).est \n",
    "            pred_cf_item[i][j] = b\n",
    "\n",
    "pred_cf_item"
   ]
  },
  {
   "cell_type": "code",
   "execution_count": 19,
   "metadata": {},
   "outputs": [
    {
     "data": {
      "text/plain": [
       "<matplotlib.colorbar.Colorbar at 0x1183dccf8>"
      ]
     },
     "execution_count": 19,
     "metadata": {},
     "output_type": "execute_result"
    },
    {
     "data": {
      "image/png": "[encoded data removed]",
      "text/plain": [
       "<matplotlib.figure.Figure at 0x1177fda90>"
      ]
     },
     "metadata": {},
     "output_type": "display_data"
    },
    {
     "data": {
      "image/png": "[encoded data removed]",
      "text/plain": [
       "<matplotlib.figure.Figure at 0x1182bfe80>"
      ]
     },
     "metadata": {},
     "output_type": "display_data"
    }
   ],
   "source": [
    "import matplotlib.pyplot as plt\n",
    "%matplotlib inline\n",
    "\n",
    "# compare the prediction between surprise package and my own calculation\n",
    "# global baseline method\n",
    "\n",
    "# using the same color scale for both plots\n",
    "mins = []\n",
    "mins.append(np.min(pred))\n",
    "mins.append(np.min(pred_base))\n",
    "vmin = np.min(mins)\n",
    "\n",
    "maxes = []\n",
    "maxes.append(np.max(pred))\n",
    "maxes.append(np.max(pred_base))\n",
    "vmax = np.max(maxes)\n",
    "\n",
    "# global baseline method by package surprise\n",
    "fig1,ax1=plt.subplots()\n",
    "img1=ax1.imshow(pred_base,vmin = vmin,vmax = vmax)\n",
    "ax1.set_title('baseline method by surpise package')\n",
    "fig1.colorbar(img1)\n",
    "\n",
    "# my own method\n",
    "fig11,ax11=plt.subplots()\n",
    "img11=ax11.imshow(pred,vmin = vmin,vmax = vmax)\n",
    "ax11.set_title('baseline method by my own calculation')\n",
    "fig11.colorbar(img11)\n",
    "\n",
    "\n"
   ]
  },
  {
   "cell_type": "code",
   "execution_count": 20,
   "metadata": {},
   "outputs": [
    {
     "data": {
      "text/plain": [
       "<matplotlib.colorbar.Colorbar at 0x11894eb38>"
      ]
     },
     "execution_count": 20,
     "metadata": {},
     "output_type": "execute_result"
    },
    {
     "data": {
      "image/png": "[encoded data removed]",
      "text/plain": [
       "<matplotlib.figure.Figure at 0x1177fd3c8>"
      ]
     },
     "metadata": {},
     "output_type": "display_data"
    },
    {
     "data": {
      "image/png": "[encoded data removed]",
      "text/plain": [
       "<matplotlib.figure.Figure at 0x11883b128>"
      ]
     },
     "metadata": {},
     "output_type": "display_data"
    }
   ],
   "source": [
    "# compare the prediction between surprise package and my own calculation\n",
    "# user based collaborative filtering \n",
    "\n",
    "# using the same color scale for both plots\n",
    "mins = []\n",
    "mins.append(np.min(pred_cf))\n",
    "mins.append(np.min(pred_cf_user))\n",
    "vmin = np.min(mins)\n",
    "\n",
    "maxes = []\n",
    "maxes.append(np.max(pred_cf))\n",
    "maxes.append(np.max(pred_cf_user))\n",
    "vmax = np.max(maxes)\n",
    "\n",
    "#user-based collaborative filtering by surprise package\n",
    "fig,ax=plt.subplots()\n",
    "img=ax.imshow(pred_cf_user,vmin = vmin,vmax = vmax) \n",
    "ax.set_title('User-based cf method by surpise package')\n",
    "fig.colorbar(img)\n",
    "\n",
    "#item-based collaborative filtering by surprise package\n",
    "fig2,ax2=plt.subplots()\n",
    "img2=ax2.imshow(pred_cf,vmin = vmin,vmax = vmax) \n",
    "ax2.set_title('User-based cf method by my own calculation')\n",
    "fig2.colorbar(img2)"
   ]
  },
  {
   "cell_type": "code",
   "execution_count": 21,
   "metadata": {},
   "outputs": [
    {
     "data": {
      "text/plain": [
       "<matplotlib.colorbar.Colorbar at 0x118834f98>"
      ]
     },
     "execution_count": 21,
     "metadata": {},
     "output_type": "execute_result"
    },
    {
     "data": {
      "image/png": "[encoded data removed]",
      "text/plain": [
       "<matplotlib.figure.Figure at 0x118658400>"
      ]
     },
     "metadata": {},
     "output_type": "display_data"
    },
    {
     "data": {
      "image/png": "[encoded data removed]",
      "text/plain": [
       "<matplotlib.figure.Figure at 0x118b3f668>"
      ]
     },
     "metadata": {},
     "output_type": "display_data"
    }
   ],
   "source": [
    "# compare the prediction between surprise package and my own calculation\n",
    "# item based collaborative filtering \n",
    "\n",
    "# using the same color scale for both plots\n",
    "mins = []\n",
    "mins.append(np.min(pred_cf_m))\n",
    "mins.append(np.min(pred_cf_item))\n",
    "vmin = np.min(mins)\n",
    "\n",
    "maxes = []\n",
    "maxes.append(np.max(pred_cf_m))\n",
    "maxes.append(np.max(pred_cf_item))\n",
    "vmax = np.max(maxes)\n",
    "\n",
    "#user-based collaborative filtering by surprise package\n",
    "fig,ax=plt.subplots()\n",
    "img=ax.imshow(pred_cf_item,vmin = vmin,vmax = vmax) \n",
    "ax.set_title('Item-based cf method by surpise package')\n",
    "fig.colorbar(img)\n",
    "\n",
    "#item-based collaborative filtering by surprise package\n",
    "fig2,ax2=plt.subplots()\n",
    "img2=ax2.imshow(pred_cf_m,vmin = vmin,vmax = vmax) \n",
    "ax2.set_title('Item-based cf method by my own calculation')\n",
    "fig2.colorbar(img2)"
   ]
  },
  {
   "cell_type": "code",
   "execution_count": null,
   "metadata": {
    "collapsed": true
   },
   "outputs": [],
   "source": []
  },
  {
   "cell_type": "code",
   "execution_count": null,
   "metadata": {
    "collapsed": true
   },
   "outputs": [],
   "source": []
  },
  {
   "cell_type": "code",
   "execution_count": null,
   "metadata": {
    "collapsed": true
   },
   "outputs": [],
   "source": []
  },
  {
   "cell_type": "code",
   "execution_count": 22,
   "metadata": {},
   "outputs": [
    {
     "data": {
      "text/plain": [
       "<matplotlib.colorbar.Colorbar at 0x118cd5390>"
      ]
     },
     "execution_count": 22,
     "metadata": {},
     "output_type": "execute_result"
    },
    {
     "data": {
      "image/png": "[encoded data removed]",
      "text/plain": [
       "<matplotlib.figure.Figure at 0x117506fd0>"
      ]
     },
     "metadata": {},
     "output_type": "display_data"
    }
   ],
   "source": [
    "### Using SVD algorithm to calculate the unknown ratings\n",
    "\n",
    "from surprise import SVD\n",
    "algo12 = SVD()\n",
    "algo12.fit(trainset)\n",
    "\n",
    "N=arr.shape[0]\n",
    "M=arr.shape[1]\n",
    "\n",
    "pred_cf_svd = np.empty([N,M])\n",
    "for i in range(N):\n",
    "    for j in range(M):\n",
    "        if arr[i][j]==0:\n",
    "            uid=users[i]\n",
    "            iid=movies[j]\n",
    "\n",
    "            b = algo12.predict(uid,iid).est \n",
    "            pred_cf_svd[i][j] = b\n",
    "\n",
    "pred_cf_svd\n",
    "\n",
    "fig0,ax0=plt.subplots()\n",
    "img0=ax0.imshow(pred_cf_svd,vmin = vmin,vmax = vmax) \n",
    "ax0.set_title('SVD method by surpise package')\n",
    "fig0.colorbar(img0)"
   ]
  },
  {
   "cell_type": "code",
   "execution_count": 23,
   "metadata": {},
   "outputs": [
    {
     "data": {
      "text/plain": [
       "<matplotlib.colorbar.Colorbar at 0x118e29f98>"
      ]
     },
     "execution_count": 23,
     "metadata": {},
     "output_type": "execute_result"
    },
    {
     "data": {
      "image/png": "[encoded data removed]",
      "text/plain": [
       "<matplotlib.figure.Figure at 0x117506dd8>"
      ]
     },
     "metadata": {},
     "output_type": "display_data"
    }
   ],
   "source": [
    "### ### using NMF algorithm to calculate the unknown ratings\n",
    "\n",
    "from surprise import NMF\n",
    "algo11 = NMF()\n",
    "algo11.fit(trainset)\n",
    "\n",
    "N=arr.shape[0]\n",
    "M=arr.shape[1]\n",
    "\n",
    "pred_cf_nmf = np.empty([N,M])\n",
    "for i in range(N):\n",
    "    for j in range(M):\n",
    "        if arr[i][j]==0:\n",
    "            uid=users[i]\n",
    "            iid=movies[j]\n",
    "\n",
    "            b = algo11.predict(uid,iid).est \n",
    "            pred_cf_nmf[i][j] = b\n",
    "\n",
    "pred_cf_nmf\n",
    "\n",
    "fig,ax=plt.subplots()\n",
    "img=ax.imshow(pred_cf_nmf,vmin = vmin,vmax = vmax) \n",
    "ax.set_title('NMF method by surpise package')\n",
    "fig.colorbar(img)"
   ]
  },
  {
   "cell_type": "code",
   "execution_count": 24,
   "metadata": {},
   "outputs": [
    {
     "name": "stdout",
     "output_type": "stream",
     "text": [
      "The 3 nearest neighbors of Matrix are:\n",
      "Advengers\n",
      "Forrest Gump\n",
      "Doraemon\n"
     ]
    }
   ],
   "source": [
    "# This function is to recommend a list of nearest neighbors given one movie\n",
    "\n",
    "def getSimilarityItems(iid):\n",
    "    # Retieve inner id of the user \n",
    "    inner_id = algo_item.trainset.to_inner_iid(iid)\n",
    "\n",
    "    # Retrieve inner ids of the nearest neighbors of the item\n",
    "    neighbors = algo_item.get_neighbors(inner_id, k=3)\n",
    "    neighbors = (algo_item.trainset.to_raw_iid(inner_id)\n",
    "                           for inner_id in neighbors)\n",
    "    \n",
    "    return neighbors\n",
    "\n",
    "\n",
    "print('The 3 nearest neighbors of Matrix are:')\n",
    "matrix_neighbors = getSimilarityItems('Matrix')\n",
    "for m in matrix_neighbors:\n",
    "    print(m)"
   ]
  },
  {
   "cell_type": "code",
   "execution_count": 25,
   "metadata": {},
   "outputs": [
    {
     "name": "stdout",
     "output_type": "stream",
     "text": [
      "The 3 nearest neighbors of Mary are:\n",
      "Joey\n",
      "Monica\n",
      "Phoeby\n"
     ]
    }
   ],
   "source": [
    "# recommend the list of nearest neighbors given one user\n",
    "\n",
    "def getSimilarityUsers(uid):\n",
    "    # Retieve inner id of the user \n",
    "    inner_id = algo_user.trainset.to_inner_uid(uid)\n",
    "\n",
    "    # Retrieve inner ids of the nearest neighbors of the user\n",
    "    neighbors = algo_user.get_neighbors(inner_id, k=3)\n",
    "    neighbors = (algo_user.trainset.to_raw_uid(inner_id)\n",
    "                           for inner_id in neighbors)\n",
    "    \n",
    "    return neighbors\n",
    "\n",
    "print('The 3 nearest neighbors of Mary are:')\n",
    "matrix_neighbors = getSimilarityUsers('Mary')\n",
    "for m in matrix_neighbors:\n",
    "    print(m)"
   ]
  },
  {
   "cell_type": "code",
   "execution_count": null,
   "metadata": {
    "collapsed": true
   },
   "outputs": [],
   "source": []
  }
 ],
 "metadata": {
  "kernelspec": {
   "display_name": "Python 3",
   "language": "python",
   "name": "python3"
  },
  "language_info": {
   "codemirror_mode": {
    "name": "ipython",
    "version": 3
   },
   "file_extension": ".py",
   "mimetype": "text/x-python",
   "name": "python",
   "nbconvert_exporter": "python",
   "pygments_lexer": "ipython3",
   "version": "3.5.4"
  }
 },
 "nbformat": 4,
 "nbformat_minor": 1
}
