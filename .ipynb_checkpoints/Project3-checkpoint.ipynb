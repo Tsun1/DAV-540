{
 "cells": [
  {
   "cell_type": "code",
   "execution_count": 2,
   "metadata": {},
   "outputs": [],
   "source": [
    "import pandas as pd"
   ]
  },
  {
   "cell_type": "code",
   "execution_count": 3,
   "metadata": {},
   "outputs": [],
   "source": [
    "# store each player's information\n",
    "class Player:\n",
    "    def __init__(self, player_name, state, total_points, rating):\n",
    "        self.player_name = player_name\n",
    "        self.player_state = state\n",
    "        self.total_points = total_points\n",
    "        self.rating = rating\n",
    "        # opponents' number in the txt file\n",
    "        self.opponents = []\n",
    "        self.average = 0\n",
    "    \n",
    "    def get_rating(self):\n",
    "        return self.rating\n",
    "    \n",
    "    def get_player_name(self):\n",
    "        return self.player_name\n",
    "    \n",
    "    def get_player_state(self):\n",
    "        return self.player_state\n",
    "    \n",
    "    def get_total_points(self):\n",
    "        return self.total_points\n",
    "    \n",
    "    def get_average(self):\n",
    "        return self.average\n",
    "    \n",
    "    def add_opponents(self, num):\n",
    "        self.opponents.append(num)\n",
    "        \n",
    "    # calculate the average rating\n",
    "    def calculate_average(self, player_list):\n",
    "        temp_sum = 0\n",
    "        for num in self.opponents:\n",
    "            temp_sum += player_list[num-1].get_rating()\n",
    "        # use floor division to get integer result\n",
    "        self.average = temp_sum//len(self.opponents)\n",
    "        "
   ]
  },
  {
   "cell_type": "code",
   "execution_count": 4,
   "metadata": {},
   "outputs": [
    {
     "ename": "FileNotFoundError",
     "evalue": "[Errno 2] No such file or directory: 'tournamentinfo.txt'",
     "output_type": "error",
     "traceback": [
      "\u001b[0;31m---------------------------------------------------------------------------\u001b[0m",
      "\u001b[0;31mFileNotFoundError\u001b[0m                         Traceback (most recent call last)",
      "\u001b[0;32m<ipython-input-4-7445e3195dcd>\u001b[0m in \u001b[0;36m<module>\u001b[0;34m\u001b[0m\n\u001b[1;32m      1\u001b[0m \u001b[0mplayer_list\u001b[0m \u001b[0;34m=\u001b[0m \u001b[0;34m[\u001b[0m\u001b[0;34m]\u001b[0m\u001b[0;34m\u001b[0m\u001b[0;34m\u001b[0m\u001b[0m\n\u001b[0;32m----> 2\u001b[0;31m \u001b[0;32mwith\u001b[0m \u001b[0mopen\u001b[0m\u001b[0;34m(\u001b[0m\u001b[0;34m\"tournamentinfo.txt\"\u001b[0m\u001b[0;34m,\u001b[0m \u001b[0;34m\"r\"\u001b[0m\u001b[0;34m)\u001b[0m \u001b[0;32mas\u001b[0m \u001b[0mf\u001b[0m\u001b[0;34m:\u001b[0m\u001b[0;34m\u001b[0m\u001b[0;34m\u001b[0m\u001b[0m\n\u001b[0m\u001b[1;32m      3\u001b[0m     \u001b[0;31m# remove all unnessary lines\u001b[0m\u001b[0;34m\u001b[0m\u001b[0;34m\u001b[0m\u001b[0;34m\u001b[0m\u001b[0m\n\u001b[1;32m      4\u001b[0m     \u001b[0mall_target_lines\u001b[0m \u001b[0;34m=\u001b[0m \u001b[0mf\u001b[0m\u001b[0;34m.\u001b[0m\u001b[0mreadlines\u001b[0m\u001b[0;34m(\u001b[0m\u001b[0;34m)\u001b[0m\u001b[0;34m[\u001b[0m\u001b[0;36m4\u001b[0m\u001b[0;34m:\u001b[0m\u001b[0;34m]\u001b[0m\u001b[0;34m\u001b[0m\u001b[0;34m\u001b[0m\u001b[0m\n\u001b[1;32m      5\u001b[0m \u001b[0;34m\u001b[0m\u001b[0m\n",
      "\u001b[0;31mFileNotFoundError\u001b[0m: [Errno 2] No such file or directory: 'tournamentinfo.txt'"
     ]
    }
   ],
   "source": [
    "player_list = []\n",
    "with open(\"tournamentinfo.txt\", \"r\") as f:\n",
    "    # remove all unnessary lines\n",
    "    all_target_lines = f.readlines()[4:]\n",
    "    \n",
    "    for i in range(0, len(all_target_lines), 3):\n",
    "        first_line = all_target_lines[i].replace(\"\\n\", \"\").split(\"|\")\n",
    "        second_line = all_target_lines[i+1].replace(\"\\n\", \"\").split(\"|\")\n",
    "        # get player name\n",
    "        player_name = first_line[1].strip()\n",
    "        # get total points\n",
    "        total_point = float(first_line[2].strip())\n",
    "        # get state\n",
    "        player_state = second_line[0].strip()\n",
    "        # get rating\n",
    "        temp_result = second_line[1].strip().split()\n",
    "        if len(temp_result) == 5:\n",
    "            if \"P\" in temp_result[-2]:\n",
    "                rating = int(temp_result[-2].split(\"P\")[0])\n",
    "            else:\n",
    "                rating = int(temp_result[-2])\n",
    "        else:\n",
    "            rating = int(temp_result[-1].split(\"P\")[0])\n",
    "            \n",
    "        player = Player(player_name, player_state, total_point, rating)\n",
    "        # get opponents' number\n",
    "        for opponent in first_line[3:10]:\n",
    "            opponent = opponent.strip()\n",
    "            # has opponent\n",
    "            if len(opponent) != 1:\n",
    "                num = int(opponent.split()[1])\n",
    "                player.add_opponents(num)\n",
    "        # add player\n",
    "        player_list.append(player)\n",
    "        \n",
    "# all player's info to a result \n",
    "result = []\n",
    "for one_player in player_list:\n",
    "    temp = []\n",
    "    # calculate the rating average\n",
    "    one_player.calculate_average(player_list)\n",
    "    temp.extend([one_player.get_player_name(), one_player.get_player_state(), one_player.get_total_points(), \n",
    "                one_player.get_rating(), one_player.get_average()])\n",
    "    result.append(temp)"
   ]
  },
  {
   "cell_type": "code",
   "execution_count": 5,
   "metadata": {},
   "outputs": [
    {
     "ename": "NameError",
     "evalue": "name 'result' is not defined",
     "output_type": "error",
     "traceback": [
      "\u001b[0;31m---------------------------------------------------------------------------\u001b[0m",
      "\u001b[0;31mNameError\u001b[0m                                 Traceback (most recent call last)",
      "\u001b[0;32m<ipython-input-5-8c1b8bea560d>\u001b[0m in \u001b[0;36m<module>\u001b[0;34m\u001b[0m\n\u001b[1;32m      1\u001b[0m \u001b[0;31m# write into dataframe\u001b[0m\u001b[0;34m\u001b[0m\u001b[0;34m\u001b[0m\u001b[0;34m\u001b[0m\u001b[0m\n\u001b[0;32m----> 2\u001b[0;31m \u001b[0mdf\u001b[0m \u001b[0;34m=\u001b[0m \u001b[0mpd\u001b[0m\u001b[0;34m.\u001b[0m\u001b[0mDataFrame\u001b[0m\u001b[0;34m(\u001b[0m\u001b[0mresult\u001b[0m\u001b[0;34m,\u001b[0m \u001b[0mcolumns\u001b[0m\u001b[0;34m=\u001b[0m\u001b[0;34m[\u001b[0m\u001b[0;34m\"Name\"\u001b[0m\u001b[0;34m,\u001b[0m \u001b[0;34m\"State\"\u001b[0m\u001b[0;34m,\u001b[0m \u001b[0;34m\"Total Points\"\u001b[0m\u001b[0;34m,\u001b[0m \u001b[0;34m\"Pre-Rating\"\u001b[0m\u001b[0;34m,\u001b[0m \u001b[0;34m\"Average Pre-Rating of Opponents\"\u001b[0m\u001b[0;34m]\u001b[0m\u001b[0;34m)\u001b[0m\u001b[0;34m\u001b[0m\u001b[0;34m\u001b[0m\u001b[0m\n\u001b[0m\u001b[1;32m      3\u001b[0m \u001b[0;31m# write to the csv file\u001b[0m\u001b[0;34m\u001b[0m\u001b[0;34m\u001b[0m\u001b[0;34m\u001b[0m\u001b[0m\n\u001b[1;32m      4\u001b[0m \u001b[0mdf\u001b[0m\u001b[0;34m.\u001b[0m\u001b[0mto_csv\u001b[0m\u001b[0;34m(\u001b[0m\u001b[0;34m\"result.csv\"\u001b[0m\u001b[0;34m,\u001b[0m \u001b[0mindex\u001b[0m\u001b[0;34m=\u001b[0m\u001b[0;32mFalse\u001b[0m\u001b[0;34m)\u001b[0m\u001b[0;34m\u001b[0m\u001b[0;34m\u001b[0m\u001b[0m\n",
      "\u001b[0;31mNameError\u001b[0m: name 'result' is not defined"
     ]
    }
   ],
   "source": [
    "# write into dataframe\n",
    "df = pd.DataFrame(result, columns=[\"Name\", \"State\", \"Total Points\", \"Pre-Rating\", \"Average Pre-Rating of Opponents\"])\n",
    "# write to the csv file\n",
    "df.to_csv(\"result.csv\", index=False)"
   ]
  },
  {
   "cell_type": "code",
   "execution_count": null,
   "metadata": {},
   "outputs": [],
   "source": []
  },
  {
   "cell_type": "code",
   "execution_count": null,
   "metadata": {},
   "outputs": [],
   "source": []
  },
  {
   "cell_type": "code",
   "execution_count": null,
   "metadata": {},
   "outputs": [],
   "source": []
  }
 ],
 "metadata": {
  "kernelspec": {
   "display_name": "Python 3",
   "language": "python",
   "name": "python3"
  },
  "language_info": {
   "codemirror_mode": {
    "name": "ipython",
    "version": 3
   },
   "file_extension": ".py",
   "mimetype": "text/x-python",
   "name": "python",
   "nbconvert_exporter": "python",
   "pygments_lexer": "ipython3",
   "version": "3.7.3"
  }
 },
 "nbformat": 4,
 "nbformat_minor": 2
}
