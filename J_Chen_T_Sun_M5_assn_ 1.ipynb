{
 "cells": [
  {
   "cell_type": "markdown",
   "metadata": {},
   "source": [
    "## Group: Jingmin Chen, Tianyu Sun"
   ]
  },
  {
   "cell_type": "markdown",
   "metadata": {},
   "source": [
    "# Introduction\n",
    "\n",
    "There is a dataset for classification. Labels in this dataset are specified as 0 and 1. This dataset contains some data attributes and prediction results of a classification model.\n",
    "\n",
    "-   `class`: The actual class label of a data entry\n",
    "\n",
    "-   `scored.class`: prediction result of the classification model\n",
    "\n",
    "-   `scored.probability`: the likelihood of a data entry belong to '1'\n",
    "\n",
    "I'll analysis these prediction result using different metrics in following parts."
   ]
  },
  {
   "cell_type": "code",
   "execution_count": 4,
   "metadata": {},
   "outputs": [],
   "source": [
    "# import python libraries\n",
    "import pandas as pd\n",
    "import numpy as np\n",
    "from matplotlib import pyplot as plt\n",
    "from sklearn.metrics import confusion_matrix, accuracy_score, precision_score, recall_score, f1_score, classification_report, roc_curve, auc"
   ]
  },
  {
   "cell_type": "markdown",
   "metadata": {},
   "source": [
    "## Load data"
   ]
  },
  {
   "cell_type": "code",
   "execution_count": 30,
   "metadata": {},
   "outputs": [
    {
     "data": {
      "text/html": [
       "<div>\n",
       "<style scoped>\n",
       "    .dataframe tbody tr th:only-of-type {\n",
       "        vertical-align: middle;\n",
       "    }\n",
       "\n",
       "    .dataframe tbody tr th {\n",
       "        vertical-align: top;\n",
       "    }\n",
       "\n",
       "    .dataframe thead th {\n",
       "        text-align: right;\n",
       "    }\n",
       "</style>\n",
       "<table border=\"1\" class=\"dataframe\">\n",
       "  <thead>\n",
       "    <tr style=\"text-align: right;\">\n",
       "      <th></th>\n",
       "      <th>pregnant</th>\n",
       "      <th>glucose</th>\n",
       "      <th>diastolic</th>\n",
       "      <th>skinfold</th>\n",
       "      <th>insulin</th>\n",
       "      <th>bmi</th>\n",
       "      <th>pedigree</th>\n",
       "      <th>age</th>\n",
       "      <th>class</th>\n",
       "      <th>scored.class</th>\n",
       "      <th>scored.probability</th>\n",
       "    </tr>\n",
       "  </thead>\n",
       "  <tbody>\n",
       "    <tr>\n",
       "      <th>0</th>\n",
       "      <td>7</td>\n",
       "      <td>124</td>\n",
       "      <td>70</td>\n",
       "      <td>33</td>\n",
       "      <td>215</td>\n",
       "      <td>25.5</td>\n",
       "      <td>0.161</td>\n",
       "      <td>37</td>\n",
       "      <td>0</td>\n",
       "      <td>0</td>\n",
       "      <td>0.328452</td>\n",
       "    </tr>\n",
       "    <tr>\n",
       "      <th>1</th>\n",
       "      <td>2</td>\n",
       "      <td>122</td>\n",
       "      <td>76</td>\n",
       "      <td>27</td>\n",
       "      <td>200</td>\n",
       "      <td>35.9</td>\n",
       "      <td>0.483</td>\n",
       "      <td>26</td>\n",
       "      <td>0</td>\n",
       "      <td>0</td>\n",
       "      <td>0.273190</td>\n",
       "    </tr>\n",
       "    <tr>\n",
       "      <th>2</th>\n",
       "      <td>3</td>\n",
       "      <td>107</td>\n",
       "      <td>62</td>\n",
       "      <td>13</td>\n",
       "      <td>48</td>\n",
       "      <td>22.9</td>\n",
       "      <td>0.678</td>\n",
       "      <td>23</td>\n",
       "      <td>1</td>\n",
       "      <td>0</td>\n",
       "      <td>0.109660</td>\n",
       "    </tr>\n",
       "    <tr>\n",
       "      <th>3</th>\n",
       "      <td>1</td>\n",
       "      <td>91</td>\n",
       "      <td>64</td>\n",
       "      <td>24</td>\n",
       "      <td>0</td>\n",
       "      <td>29.2</td>\n",
       "      <td>0.192</td>\n",
       "      <td>21</td>\n",
       "      <td>0</td>\n",
       "      <td>0</td>\n",
       "      <td>0.055998</td>\n",
       "    </tr>\n",
       "    <tr>\n",
       "      <th>4</th>\n",
       "      <td>4</td>\n",
       "      <td>83</td>\n",
       "      <td>86</td>\n",
       "      <td>19</td>\n",
       "      <td>0</td>\n",
       "      <td>29.3</td>\n",
       "      <td>0.317</td>\n",
       "      <td>34</td>\n",
       "      <td>0</td>\n",
       "      <td>0</td>\n",
       "      <td>0.100491</td>\n",
       "    </tr>\n",
       "  </tbody>\n",
       "</table>\n",
       "</div>"
      ],
      "text/plain": [
       "   pregnant  glucose  diastolic  skinfold  insulin   bmi  pedigree  age  \\\n",
       "0         7      124         70        33      215  25.5     0.161   37   \n",
       "1         2      122         76        27      200  35.9     0.483   26   \n",
       "2         3      107         62        13       48  22.9     0.678   23   \n",
       "3         1       91         64        24        0  29.2     0.192   21   \n",
       "4         4       83         86        19        0  29.3     0.317   34   \n",
       "\n",
       "   class  scored.class  scored.probability  \n",
       "0      0             0            0.328452  \n",
       "1      0             0            0.273190  \n",
       "2      1             0            0.109660  \n",
       "3      0             0            0.055998  \n",
       "4      0             0            0.100491  "
      ]
     },
     "execution_count": 30,
     "metadata": {},
     "output_type": "execute_result"
    }
   ],
   "source": [
    "data = pd.read_csv('https://raw.githubusercontent.com/TTZUO/DAV-6150/master/M5_Data.csv')\n",
    "data.head()"
   ]
  },
  {
   "cell_type": "markdown",
   "metadata": {},
   "source": [
    "## Confusion matrix\n",
    "\n",
    "In this part I'll use crosstab to calculate confusion matrix and compare the result with value_counts. And then save some import values(True Positive, False Positive, True Negative, False Positive) for further use.\n",
    "\n",
    "The confusion matrix is calculated by true label and predict label. And values in confusion matrix are based on number of each value.\n",
    "So I printed confusion matrix and value counts to see if summary of confusion matrix's row is value counts."
   ]
  },
  {
   "cell_type": "code",
   "execution_count": 55,
   "metadata": {},
   "outputs": [
    {
     "name": "stdout",
     "output_type": "stream",
     "text": [
      "confusion matrix: \n",
      "scored.class    0   1\n",
      "class                \n",
      "0             119   5\n",
      "1              30  27\n",
      "\n",
      "value_counts on class\n",
      "0    124\n",
      "1     57\n",
      "Name: class, dtype: int64\n",
      "\n",
      "value_counts on scored.class\n",
      "0    149\n",
      "1     32\n",
      "Name: scored.class, dtype: int64\n",
      "true_pos_count:  27\n",
      "false_pos_count:  5\n",
      "true_neg_count:  119\n",
      "false_neg_count:  30\n"
     ]
    }
   ],
   "source": [
    "# calculate confusion matrix\n",
    "conf_mat = pd.crosstab(data['class'], data['scored.class'])\n",
    "\n",
    "print('confusion matrix: ')\n",
    "print(conf_mat)\n",
    "print()\n",
    "\n",
    "# see value counts of each value\n",
    "# the summary of rows and columns in confusion matrix may equal to value counts\n",
    "print('value_counts on class')\n",
    "print(data['class'].value_counts())\n",
    "print()\n",
    "\n",
    "print('value_counts on scored.class')\n",
    "print(data['scored.class'].value_counts())\n",
    "\n",
    "true_pos_count = conf_mat[1][1]\n",
    "false_pos_count = conf_mat[1][0]\n",
    "true_neg_count = conf_mat[0][0]\n",
    "false_neg_count = conf_mat[0][1]\n",
    "print('true_pos_count: ',true_pos_count)\n",
    "print('false_pos_count: ',false_pos_count)\n",
    "print('true_neg_count: ',true_neg_count)\n",
    "print('false_neg_count: ',false_neg_count)"
   ]
  },
  {
   "cell_type": "markdown",
   "metadata": {},
   "source": [
    "## Some metric functions"
   ]
  },
  {
   "cell_type": "markdown",
   "metadata": {},
   "source": [
    "### accuracy"
   ]
  },
  {
   "cell_type": "code",
   "execution_count": 21,
   "metadata": {},
   "outputs": [],
   "source": [
    "def accuracy(actual_label, pred_label):\n",
    "\n",
    "    # handle wrong input\n",
    "    if len(actual_label) != len(pred_label):\n",
    "        raise ValueError(\"input shape not align!\")\n",
    "    else:\n",
    "        # calculate number of correct classified entry and the ratio\n",
    "        return (actual_label == pred_label).sum() / actual_label.shape[0]\n"
   ]
  },
  {
   "cell_type": "markdown",
   "metadata": {},
   "source": [
    "### precision"
   ]
  },
  {
   "cell_type": "code",
   "execution_count": 22,
   "metadata": {},
   "outputs": [],
   "source": [
    "def precision(actual_label, pred_label):\n",
    "\n",
    "    # calculate tp and fp\n",
    "    tp = (pred_label == 1)[actual_label == 1].sum()\n",
    "    fp = (pred_label == 1)[actual_label != 1].sum()\n",
    "\n",
    "    # return precision\n",
    "    return tp / (tp + fp)"
   ]
  },
  {
   "cell_type": "markdown",
   "metadata": {},
   "source": [
    "### sensitive"
   ]
  },
  {
   "cell_type": "code",
   "execution_count": 23,
   "metadata": {},
   "outputs": [],
   "source": [
    "def sensitive(actual_label, pred_label):\n",
    "\n",
    "    # calculate tp and fn\n",
    "    tp = (pred_label == 1)[actual_label == 1].sum()\n",
    "    fn = (pred_label == 0)[actual_label != 0].sum()\n",
    "\n",
    "    # return sensitive\n",
    "    return tp / (tp + fn)"
   ]
  },
  {
   "cell_type": "markdown",
   "metadata": {},
   "source": [
    "### specificity"
   ]
  },
  {
   "cell_type": "code",
   "execution_count": 24,
   "metadata": {},
   "outputs": [],
   "source": [
    "def specificity(actual_label, pred_label):\n",
    "    \n",
    "    # calculate tn and fp\n",
    "    tn = (pred_label == 0)[actual_label == 0].sum()\n",
    "    fp = (pred_label == 1)[actual_label != 1].sum()\n",
    "\n",
    "    # return specificity\n",
    "    return tn / (tn + fp)"
   ]
  },
  {
   "cell_type": "markdown",
   "metadata": {},
   "source": [
    "### f1 score"
   ]
  },
  {
   "cell_type": "code",
   "execution_count": 25,
   "metadata": {},
   "outputs": [],
   "source": [
    "def f1(actual_label, pred_label):\n",
    "\n",
    "    # calculate precision and recall using function defined above\n",
    "    p = precision(actual_label, pred_label)\n",
    "    r = sensitive(actual_label, pred_label)\n",
    "\n",
    "    # return f1 score\n",
    "    return 2 * p * r / (p + r)"
   ]
  },
  {
   "cell_type": "markdown",
   "metadata": {},
   "source": [
    "### ROC and AUC"
   ]
  },
  {
   "cell_type": "code",
   "execution_count": 26,
   "metadata": {},
   "outputs": [],
   "source": [
    "def roc_auc(actual_label, pred_label, proba, g=0.05):\n",
    "    \n",
    "    # sorted index\n",
    "    index = np.argsort(-proba, kind='mergesort')\n",
    "\n",
    "    # sorted probability\n",
    "    y_score = proba[index].values\n",
    "    # sorted true labels\n",
    "    y_true = actual_label[index].values\n",
    "\n",
    "    # record result\n",
    "    tpr_list = []\n",
    "    fpr_list = []\n",
    "    auc = 0\n",
    "    for i in range(y_score.shape[0]):\n",
    "\n",
    "        # calculate tp, fn, tn and fp\n",
    "        # assign 1 to [0, i] entries,\n",
    "        # assign 0 to [i, len] entries\n",
    "        tp = (y_true[:i] == 1).sum()\n",
    "        fn = (y_true[i:] == 1).sum()\n",
    "\n",
    "        tn = (y_true[i:] == 0).sum()\n",
    "        fp = (y_true[:i] == 0).sum()\n",
    "\n",
    "        # calculate tpr and fpr\n",
    "        tpr = tp / (tp + fn)\n",
    "        fpr = fp / (tn + fp)\n",
    "\n",
    "        # record result\n",
    "        tpr_list.append(tpr)\n",
    "        fpr_list.append(fpr)\n",
    "\n",
    "        # calculate auc\n",
    "        # add area of each small rectangle to auc \n",
    "        if i > 0:\n",
    "            auc += (fpr_list[i] - fpr_list[i - 1]) * tpr_list[i] \n",
    "\n",
    "    # show the figure\n",
    "    plt.plot(fpr_list, tpr_list, '-')\n",
    "    plt.title('ROC, AUC={:.5f}'.format(auc))\n",
    "    plt.xlabel('FPR')\n",
    "    plt.ylabel('TPR')\n",
    "    plt.show()\n",
    "\n",
    "    return auc"
   ]
  },
  {
   "cell_type": "markdown",
   "metadata": {},
   "source": [
    "## Apply metrics to data"
   ]
  },
  {
   "cell_type": "code",
   "execution_count": 15,
   "metadata": {},
   "outputs": [
    {
     "name": "stdout",
     "output_type": "stream",
     "text": [
      "Accuracy = 0.8066298342541437\n",
      "Precison = 0.84375\n",
      "Sensitive = 0.47368421052631576\n",
      "Specificity = 0.9596774193548387\n",
      "F1 score = 0.6067415730337079\n"
     ]
    },
    {
     "data": {
      "image/png": "[encoded data removed]",
      "text/plain": [
       "<Figure size 432x288 with 1 Axes>"
      ]
     },
     "metadata": {
      "needs_background": "light"
     },
     "output_type": "display_data"
    },
    {
     "name": "stdout",
     "output_type": "stream",
     "text": [
      "AUC = 0.842246745897001\n"
     ]
    }
   ],
   "source": [
    "print('Accuracy = {}'.format(accuracy(data['class'], data['scored.class'])))\n",
    "print('Precison = {}'.format(precision(data['class'], data['scored.class'])))\n",
    "print('Sensitive = {}'.format(sensitive(data['class'], data['scored.class'])))\n",
    "print('Specificity = {}'.format(specificity(data['class'], data['scored.class'])))\n",
    "print('F1 score = {}'.format(f1(data['class'], data['scored.class'])))\n",
    "\n",
    "print('AUC = {}'.format(roc_auc(data['class'], data['scored.class'], data['scored.probability'])))"
   ]
  },
  {
   "cell_type": "markdown",
   "metadata": {},
   "source": [
    "## Compare to sklearn\n",
    "\n",
    "Using pre-built functions in sklearn to calculate these matrics and compare result with my function."
   ]
  },
  {
   "cell_type": "code",
   "execution_count": 16,
   "metadata": {},
   "outputs": [
    {
     "name": "stdout",
     "output_type": "stream",
     "text": [
      "Accuracy = 0.8066298342541437\n",
      "Precison = 0.84375\n",
      "Sensitive = 0.47368421052631576\n",
      "F1 score = 0.6067415730337079\n",
      "              precision    recall  f1-score   support\n",
      "\n",
      "           0       0.80      0.96      0.87       124\n",
      "           1       0.84      0.47      0.61        57\n",
      "\n",
      "   micro avg       0.81      0.81      0.81       181\n",
      "   macro avg       0.82      0.72      0.74       181\n",
      "weighted avg       0.81      0.81      0.79       181\n",
      "\n"
     ]
    },
    {
     "data": {
      "image/png": "[encoded data removed]",
      "text/plain": [
       "<Figure size 432x288 with 1 Axes>"
      ]
     },
     "metadata": {
      "needs_background": "light"
     },
     "output_type": "display_data"
    },
    {
     "name": "stdout",
     "output_type": "stream",
     "text": [
      "AUC=0.85031\n"
     ]
    }
   ],
   "source": [
    "print('Accuracy = {}'.format(accuracy_score(data['class'], data['scored.class'])))\n",
    "print('Precison = {}'.format(precision_score(data['class'], data['scored.class'])))\n",
    "# sensitive is also called recall \n",
    "print('Sensitive = {}'.format(recall_score(data['class'], data['scored.class'])))\n",
    "\n",
    "print('F1 score = {}'.format(f1_score(data['class'], data['scored.class'])))\n",
    "\n",
    "print(classification_report(data['class'], data['scored.class']))\n",
    "\n",
    "fpr, tpr, th = roc_curve(data['class'], data['scored.probability'])\n",
    "plt.plot(fpr, tpr)\n",
    "plt.show()\n",
    "\n",
    "print('AUC={:.5F}'.format(auc(fpr, tpr)))\n",
    "\n"
   ]
  },
  {
   "cell_type": "markdown",
   "metadata": {},
   "source": [
    "## Conclusion\n",
    "\n",
    "The result of my function is very close to result of `sklearn`"
   ]
  },
  {
   "cell_type": "code",
   "execution_count": null,
   "metadata": {},
   "outputs": [],
   "source": []
  },
  {
   "cell_type": "code",
   "execution_count": null,
   "metadata": {},
   "outputs": [],
   "source": []
  }
 ],
 "metadata": {
  "kernelspec": {
   "display_name": "Python 3",
   "language": "python",
   "name": "python3"
  },
  "language_info": {
   "codemirror_mode": {
    "name": "ipython",
    "version": 3
   },
   "file_extension": ".py",
   "mimetype": "text/x-python",
   "name": "python",
   "nbconvert_exporter": "python",
   "pygments_lexer": "ipython3",
   "version": "3.7.1"
  }
 },
 "nbformat": 4,
 "nbformat_minor": 2
}
