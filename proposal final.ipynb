{
 "cells": [
  {
   "cell_type": "markdown",
   "metadata": {},
   "source": [
    "## Introduction\n",
    "\n",
    "Since the 1990s, developed countries have begun to cultivate a large number of data analysts. Until now, the demand for data analysts has continued to grow, and there is still an expansion. More and more people are choosing to enter the data analysis industry, and novices are eager to know more about the characteristics of the industry."
   ]
  },
  {
   "cell_type": "markdown",
   "metadata": {},
   "source": [
    "## Research Questions\n",
    "\n",
    "1. Data analysis practitioners' age structure and educational background.\n",
    "2. Data analysis practitioners' occupational classification.\n",
    "3. Data analysis practitioners advocate tools.\n",
    "4. Data analysis practitioners advocate the programming language.\n",
    "5. Data analysis is an algorithm of interest to practitioners.\n",
    "6. The challenges faced by data analysis practitioners.\n",
    "\n",
    "Through the above research, we can have a clearer understanding of the industry of data analysis, and the knowledge and difficulties faced in reaching the industry."
   ]
  },
  {
   "cell_type": "markdown",
   "metadata": {},
   "source": [
    "## Data to be Used\n",
    "\n",
    "Data Sources:\n",
    "\n",
    "https://www.kaggle.com/kaggle/kaggle-survey-2017      Download the data from the kaggle website and save it as a csv file.\n",
    "\n",
    "https://api.github.com      Collect data on github using web api"
   ]
  },
  {
   "cell_type": "markdown",
   "metadata": {},
   "source": [
    "## Approach\n",
    "\n",
    "Save the collected data as a csv file.\n",
    "\n",
    "Construct a bar chart showing the average age of the data analysis practitioners in each region.\n",
    "\n",
    "Construct a bar chart showing the number of recommendations for data analysis practitioners on various learning tools.\n",
    "\n",
    "Construct a bar chart showing the number of recommendations from data analysis practitioners for various programming languages.\n",
    "\n",
    "Create a list showing the number of times the data analysis practitioners recommend the various algorithms.\n",
    "\n",
    "Through analysis, we can better study the results.\n",
    "\n",
    "Finally, I will use the SVM algorithm to build a classification model. I will consider the factors of the data analysis practitioners, including age, educational background, age of exposure data analysis, etc., and then use the employment status as a label to classify."
   ]
  }
 ],
 "metadata": {
  "kernelspec": {
   "display_name": "Python 3",
   "language": "python",
   "name": "python3"
  },
  "language_info": {
   "codemirror_mode": {
    "name": "ipython",
    "version": 3
   },
   "file_extension": ".py",
   "mimetype": "text/x-python",
   "name": "python",
   "nbconvert_exporter": "python",
   "pygments_lexer": "ipython3",
   "version": "3.7.4"
  }
 },
 "nbformat": 4,
 "nbformat_minor": 2
}
