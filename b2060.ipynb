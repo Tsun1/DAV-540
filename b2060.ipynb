{
 "cells": [
  {
   "cell_type": "code",
   "execution_count": 2,
   "metadata": {},
   "outputs": [],
   "source": [
    "import numpy as np\n",
    "import pandas as pd\n",
    "import copy"
   ]
  },
  {
   "cell_type": "code",
   "execution_count": 16,
   "metadata": {},
   "outputs": [],
   "source": [
    "#question 1\n",
    "#2x1+3x2+11x3=2\n",
    "#x1+x2+5x3=1\n",
    "#2x1+x2+3x3=0\n",
    "#solution:x1=-1/3,x2=-1/3,x3=1/3"
   ]
  },
  {
   "cell_type": "code",
   "execution_count": 3,
   "metadata": {},
   "outputs": [
    {
     "name": "stdout",
     "output_type": "stream",
     "text": [
      "augmented matrix\n",
      "[[ 2.  3. 11.  2.]\n",
      " [ 1.  1.  5.  1.]\n",
      " [ 2.  1.  3.  0.]]\n",
      "Upper Triangular Matrix\n",
      "[[ 2.   3.  11.   2. ]\n",
      " [ 0.  -0.5 -0.5  0. ]\n",
      " [ 0.   0.  -6.  -2. ]]\n",
      "solution\n",
      "[[-0.33333333 -0.33333333  0.33333333]]\n"
     ]
    }
   ],
   "source": [
    "#question 2\n",
    "def elimination(mat_a):\n",
    "    for i in range(0, (mat_a.shape[0])-1):\n",
    "        if mat_a[i, i] == 0:\n",
    "            print(\"stop calculation：\")\n",
    "            print(mat_a)\n",
    "            break\n",
    "        else:\n",
    "            for j in range(i+1, mat_a.shape[0]):\n",
    "                mat_a[j:j+1 , :] = mat_a[j:j+1,:] - (mat_a[j,i]/mat_a[i,i])*mat_a[i, :]\n",
    "    return mat_a\n",
    "\n",
    "def back_substitute(new_mat):\n",
    "    x = np.mat(np.zeros(new_mat.shape[0], dtype=float))#initial zero matrix to save answer\n",
    "    number = x.shape[1]-1\n",
    "    b = number+1\n",
    "    x[0,number] = new_mat[number,b]/new_mat[number, number]\n",
    "    for i in range(number-1,-1,-1):\n",
    "        try:\n",
    "            x[0,i] = (new_mat[i,b]-np.sum(np.multiply(new_mat[i,i+1:b],x[0,i+1:b])))/(new_mat[i,i])\n",
    "        except:print(\"error\")\n",
    "    print(x)\n",
    "\n",
    "if __name__ == \"__main__\":\n",
    "    A = np.mat([[2, 3, 11],\n",
    "                [1, 1, 5],\n",
    "                [2, 1, 3],],dtype=float)\n",
    "    b = np.mat([2,1,0])\n",
    "    # conbine A and b\n",
    "    print(\"augmented matrix\")\n",
    "    print(np.hstack((A, b.T)))\n",
    "    new_mat = elimination(np.hstack((A, b.T)))\n",
    "    print(\"Upper Triangular Matrix\")\n",
    "    print(new_mat)\n",
    "    print(\"solution\")\n",
    "    back_substitute(new_mat)"
   ]
  },
  {
   "cell_type": "code",
   "execution_count": 18,
   "metadata": {},
   "outputs": [
    {
     "name": "stdout",
     "output_type": "stream",
     "text": [
      "augmented matrix\n",
      "[[11.  3. 10.  2.]\n",
      " [ 1.  1.  5.  1.]\n",
      " [ 2.  1.  3.  5.]]\n",
      "Upper Triangular Matrix\n",
      "[[11.          3.         10.          2.        ]\n",
      " [ 0.          0.72727273  4.09090909  0.81818182]\n",
      " [ 0.          0.         -1.375       4.125     ]]\n",
      "solution\n",
      "[[-2. 18. -3.]]\n"
     ]
    }
   ],
   "source": [
    "# question2 another test equation\n",
    "if __name__ == \"__main__\":\n",
    "    A = np.mat([[11, 3, 10],\n",
    "                [1, 1, 5],\n",
    "                [2, 1, 3],],dtype=float)\n",
    "    b = np.mat([2,1,5])\n",
    "    # conbine A and b\n",
    "    print(\"augmented matrix\")\n",
    "    print(np.hstack((A, b.T)))\n",
    "    new_mat = elimination(np.hstack((A, b.T)))\n",
    "    print(\"Upper Triangular Matrix\")\n",
    "    print(new_mat)\n",
    "    print(\"solution\")\n",
    "    back_substitute(new_mat)"
   ]
  },
  {
   "cell_type": "code",
   "execution_count": 19,
   "metadata": {},
   "outputs": [
    {
     "name": "stdout",
     "output_type": "stream",
     "text": [
      "[[14 26]\n",
      " [26 50]]\n",
      "[[10 14 18]\n",
      " [14 20 26]\n",
      " [18 26 34]]\n"
     ]
    }
   ],
   "source": [
    "# question 3\n",
    "A = np.array([[1,2,3],[3,4,5]])\n",
    "AT = A.transpose()\n",
    "print(np.dot(A,AT))\n",
    "print(np.dot(AT,A))\n",
    "\n",
    "#if A is a m×n matrix, then AAT is a m×m matrix, while ATA is a n×n matrix.\n",
    "#they are not the same in general.\n",
    "#when A is a squared matrix, and it is symmetric, antisymmetric or orthogonal,\n",
    "#AAT = ATA is true."
   ]
  },
  {
   "cell_type": "code",
   "execution_count": 20,
   "metadata": {},
   "outputs": [
    {
     "name": "stdout",
     "output_type": "stream",
     "text": [
      "L=\n",
      " [[1.  0.  0. ]\n",
      " [2.  1.  0. ]\n",
      " [0.5 0.5 1. ]]\n",
      "U=\n",
      " [[ 2. -1.  1.]\n",
      " [ 0.  3. -3.]\n",
      " [ 0.  0.  2.]]\n"
     ]
    }
   ],
   "source": [
    "#question 4\n",
    "np.random.seed(2)\n",
    "def LU_decomposition(A):\n",
    "    n=len(A[0])\n",
    "    L = np.zeros([n,n])\n",
    "    U = np.zeros([n, n])\n",
    "    for i in range(n):\n",
    "        L[i][i]=1\n",
    "        if i==0:\n",
    "            U[0][0] = A[0][0]\n",
    "            for j in range(1,n):\n",
    "                U[0][j]=A[0][j]\n",
    "                L[j][0]=A[j][0]/U[0][0]\n",
    "        else:\n",
    "                for j in range(i, n):#U\n",
    "                    temp=0\n",
    "                    for k in range(0, i):\n",
    "                        temp = temp+L[i][k] * U[k][j]\n",
    "                    U[i][j]=A[i][j]-temp\n",
    "                for j in range(i+1, n):#L\n",
    "                    temp = 0\n",
    "                    for k in range(0, i ):\n",
    "                        temp = temp + L[j][k] * U[k][i]\n",
    "                    L[j][i] = (A[j][i] - temp)/U[i][i]\n",
    "    return L,U\n",
    " \n",
    "if __name__ == '__main__': \n",
    "    A=[[2,-1,1],[4,1,-1],[1,1,1]]\n",
    "    L,U=LU_decomposition(A)\n",
    "    print('L=\\n',L)\n",
    "    print('U=\\n',U)"
   ]
  },
  {
   "cell_type": "code",
   "execution_count": 21,
   "metadata": {},
   "outputs": [
    {
     "name": "stdout",
     "output_type": "stream",
     "text": [
      "3\n",
      "4\n",
      "5\n"
     ]
    }
   ],
   "source": [
    "# question 5\n",
    "\n",
    "def permutations(n):\n",
    "    arr = [x for x in range(n)]\n",
    "    result =[]\n",
    "    dfs(arr,0,len(arr),result)\n",
    "    return result\n",
    "\n",
    "def dfs(arr, begin, end,result):\n",
    "    if begin == end:\n",
    "        result.append(copy.deepcopy(arr))\n",
    "        pass\n",
    "    else:\n",
    "        for i in range(begin,end):\n",
    "            arr[i],arr[begin] = arr[begin],arr[i]\n",
    "            dfs(arr,begin+1,end,result)\n",
    "            arr[i],arr[begin] = arr[begin],arr[i]\n",
    "            pass\n",
    "        pass\n",
    "\n",
    "def inverse(arr):\n",
    "    count = 0\n",
    "    for i in range(len(arr)):\n",
    "        for j in range(i):\n",
    "            if arr[j] > arr[i]:\n",
    "                count+=1\n",
    "                pass\n",
    "            pass\n",
    "        pass    \n",
    "    return count\n",
    "\n",
    "#determinant\n",
    "def det(matrix):\n",
    "    if matrix.shape[0]!=matrix.shape[1]:\n",
    "        print('this martix is not a squared matrix！')\n",
    "        return\n",
    "    permutation = permutations(matrix.shape[0])\n",
    "    permutation = np.array(permutation)\n",
    "    result = 0\n",
    "    for i in range(len(permutation)):\n",
    "        a = 1\n",
    "        for j in range(matrix.shape[0]):\n",
    "            a*=matrix[j][permutation[i][j]]\n",
    "        result += pow(-1,inverse(permutation[i]))*a\n",
    "    return result\n",
    "\n",
    "A1 = np.array([[2,1],[1,2]])\n",
    "A2 = np.array([[2,1,1],[1,2,1],[1,1,2]])\n",
    "A3 = np.array([[2,1,1,1],[1,2,1,1],[1,1,2,1],[1,1,1,2]])\n",
    "print(det(A1))\n",
    "print(det(A2))\n",
    "print(det(A3))"
   ]
  },
  {
   "cell_type": "code",
   "execution_count": 22,
   "metadata": {},
   "outputs": [
    {
     "name": "stdout",
     "output_type": "stream",
     "text": [
      "[4.666666666666667, 5.666666666666667]\n",
      "[3.0, 4.0, 5.0]\n",
      "[1.8, 2.8, 3.8, 4.8]\n"
     ]
    }
   ],
   "source": [
    "# question 6\n",
    "def cramer(d,b):\n",
    "    if d.shape[0]!=d.shape[1]:\n",
    "        print('this martix is not a squared matrix！')\n",
    "        return\n",
    "    if det(d) == 0:\n",
    "        print('coefficient matrix is zero')\n",
    "        return\n",
    "    d_i = []\n",
    "    for i in range(b.shape[0]):\n",
    "        d_i.append(copy.deepcopy(d))\n",
    "        d_i[i][:,i] = b\n",
    "        pass\n",
    "    x = []\n",
    "    for i in range(b.shape[0]):\n",
    "        x.append(det(d_i[i]) / det(d))\n",
    "    print(x)\n",
    "\n",
    "A1 = np.array([[2,1],[1,2]])\n",
    "x1 = np.array([15,16])\n",
    "A2 = np.array([[2,1,1],[1,2,1],[1,1,2]])\n",
    "x2 = np.array([15,16,17])\n",
    "A3 = np.array([[2,1,1,1],[1,2,1,1],[1,1,2,1],[1,1,1,2]])\n",
    "x3 = np.array([15,16,17,18])\n",
    "cramer(A1,x1)\n",
    "cramer(A2,x2)\n",
    "cramer(A3,x3)"
   ]
  },
  {
   "cell_type": "code",
   "execution_count": null,
   "metadata": {},
   "outputs": [],
   "source": []
  }
 ],
 "metadata": {
  "kernelspec": {
   "display_name": "Python 3",
   "language": "python",
   "name": "python3"
  },
  "language_info": {
   "codemirror_mode": {
    "name": "ipython",
    "version": 3
   },
   "file_extension": ".py",
   "mimetype": "text/x-python",
   "name": "python",
   "nbconvert_exporter": "python",
   "pygments_lexer": "ipython3",
   "version": "3.7.3"
  }
 },
 "nbformat": 4,
 "nbformat_minor": 2
}
