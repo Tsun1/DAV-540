{
 "cells": [
  {
   "cell_type": "markdown",
   "metadata": {},
   "source": [
    "### Week 3 Assignment"
   ]
  },
  {
   "cell_type": "markdown",
   "metadata": {},
   "source": [
    "#### preparation\n"
   ]
  },
  {
   "cell_type": "code",
   "execution_count": 9,
   "metadata": {},
   "outputs": [],
   "source": [
    "def read_file(filename):\n",
    "    with open(filename, 'r') as f:\n",
    "        result = []\n",
    "        for line in f.readlines():\n",
    "            # remove the newline and split the line with the \",\"\n",
    "            result.append(line.replace(\"\\n\", \"\").split(\",\"))\n",
    "        # seven list \n",
    "        price_list = []\n",
    "        maintenance_cost_list = []\n",
    "        num_of_doors_list = []\n",
    "        num_of_passengers_list = []\n",
    "        luggage_capacity_list = []\n",
    "        safety_rating_list = []\n",
    "        vehicle_classification_list = []\n",
    "        for price, maintenance, doors, passengers, luggage, rating, vehicle in result:\n",
    "            price_list.append(price)\n",
    "            maintenance_cost_list.append(maintenance)\n",
    "            num_of_doors_list.append(doors)\n",
    "            num_of_passengers_list.append(passengers)\n",
    "            luggage_capacity_list.append(luggage)\n",
    "            safety_rating_list.append(rating)\n",
    "            vehicle_classification_list.append(vehicle)\n",
    "    return price_list, maintenance_cost_list, num_of_doors_list, num_of_passengers_list, \\\n",
    "           luggage_capacity_list, safety_rating_list, vehicle_classification_list\n",
    "# get seven list for later use\n",
    "price_list, maintenance_cost_list, num_of_doors_list, num_of_passengers_list, \\\n",
    "    luggage_capacity_list, safety_rating_list, vehicle_classification_list = read_file(\"cars-sample35.txt\")"
   ]
  },
  {
   "cell_type": "markdown",
   "metadata": {},
   "source": [
    "#### task 1"
   ]
  },
  {
   "cell_type": "code",
   "execution_count": 10,
   "metadata": {},
   "outputs": [
    {
     "name": "stdout",
     "output_type": "stream",
     "text": [
      "[6, 16, 20, 23, 26, 29]\n"
     ]
    }
   ],
   "source": [
    "# In task 1, using enumerate function to get a iterable object\n",
    "# which can yield paris containing a count and a yield\n",
    "price_med_index_list = [index for index, price in enumerate(price_list) if price == \"med\"]\n",
    "print(f'{price_med_index_list}')"
   ]
  },
  {
   "cell_type": "markdown",
   "metadata": {},
   "source": [
    "#### task 2"
   ]
  },
  {
   "cell_type": "code",
   "execution_count": 11,
   "metadata": {},
   "outputs": [
    {
     "name": "stdout",
     "output_type": "stream",
     "text": [
      "['more', '2', '2', '2', '4', '2']\n"
     ]
    }
   ],
   "source": [
    "# In task 2, using zip function to combine two lists for getting value from \n",
    "# each list at the same time\n",
    "price_med_passenger_num_list = [num_of_passenger for price, num_of_passenger in\n",
    "                                    zip(price_list, num_of_passengers_list) if price == 'med']\n",
    "print(f'{price_med_passenger_num_list}')"
   ]
  },
  {
   "cell_type": "markdown",
   "metadata": {},
   "source": [
    "#### task 3"
   ]
  },
  {
   "cell_type": "code",
   "execution_count": 12,
   "metadata": {},
   "outputs": [
    {
     "name": "stdout",
     "output_type": "stream",
     "text": [
      "[0, 1, 2, 27, 31]\n"
     ]
    }
   ],
   "source": [
    "# In task 3, using enumerate and zip to firstly combine two lists for getting value\n",
    "# for each list in the same time and secondly get index and corresponing pair value\n",
    "price_high_maintenance_not_low_index_list = [\n",
    "    index for index, price_maintenance in enumerate(zip(price_list, maintenance_cost_list))\n",
    "    if price_maintenance[0] == 'high' and price_maintenance[1] != 'low'\n",
    "]\n",
    "print(price_high_maintenance_not_low_index_list)"
   ]
  },
  {
   "cell_type": "markdown",
   "metadata": {},
   "source": [
    "#### task 4"
   ]
  },
  {
   "cell_type": "code",
   "execution_count": 13,
   "metadata": {},
   "outputs": [
    {
     "name": "stdout",
     "output_type": "stream",
     "text": [
      "[1, 2, 3, 'A', 'B', 'C', 4, 5, 'D', 'E']\n"
     ]
    }
   ],
   "source": [
    "# In task 4, use nested list comprehension to extract value \n",
    "nlist = [[1, 2, 3], ['A', 'B', 'C'], [4, 5], ['D', 'E']]\n",
    "flist = [y for x in nlist for y in x]\n",
    "print(flist)"
   ]
  },
  {
   "cell_type": "markdown",
   "metadata": {},
   "source": [
    "#### task 5"
   ]
  },
  {
   "cell_type": "code",
   "execution_count": 14,
   "metadata": {},
   "outputs": [
    {
     "name": "stdout",
     "output_type": "stream",
     "text": [
      "{'A0': 'high', 'A1': 'high', 'A2': 'high', 'A3': 'high', 'A4': 'vhigh', 'A5': 'low', 'A6': 'med'}\n",
      "{'A0': 'med', 'A1': 'small', 'A2': 'big', 'A3': 'big', 'A4': 'med', 'A5': 'small', 'A6': 'med'}\n",
      "vhigh med\n"
     ]
    }
   ],
   "source": [
    "# In task five, use enumerate again to get value and corresponding value\n",
    "def makedict(mylist, x):\n",
    "    newdict = {}\n",
    "    # use enumerate to get the index and value\n",
    "    for index, value in enumerate(mylist[:x]):\n",
    "        newdict['A' + str(index)] = value\n",
    "    return newdict\n",
    "\n",
    "# using new function to get first seven price dict and first seven luggage dict\n",
    "first_seven_price_dict = makedict(price_list, 7)\n",
    "print(first_seven_price_dict)\n",
    "first_seven_luggage_dict = makedict(luggage_capacity_list, 7)\n",
    "print(first_seven_luggage_dict)\n",
    "# get value of key 'A4' in the two dict above \n",
    "print(first_seven_price_dict['A4'], first_seven_luggage_dict['A4'])\n"
   ]
  }
 ],
 "metadata": {
  "kernelspec": {
   "display_name": "Python 3",
   "language": "python",
   "name": "python3"
  },
  "language_info": {
   "codemirror_mode": {
    "name": "ipython",
    "version": 3
   },
   "file_extension": ".py",
   "mimetype": "text/x-python",
   "name": "python",
   "nbconvert_exporter": "python",
   "pygments_lexer": "ipython3",
   "version": "3.7.3"
  }
 },
 "nbformat": 4,
 "nbformat_minor": 2
}
