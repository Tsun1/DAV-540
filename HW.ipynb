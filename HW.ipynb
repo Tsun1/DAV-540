{
 "cells": [
  {
   "cell_type": "markdown",
   "metadata": {},
   "source": [
    "### Part1"
   ]
  },
  {
   "cell_type": "markdown",
   "metadata": {},
   "source": [
    "The data is already in github."
   ]
  },
  {
   "cell_type": "code",
   "execution_count": 48,
   "metadata": {},
   "outputs": [],
   "source": [
    "import pandas as pd"
   ]
  },
  {
   "cell_type": "markdown",
   "metadata": {},
   "source": [
    "### Part2"
   ]
  },
  {
   "cell_type": "code",
   "execution_count": 3,
   "metadata": {},
   "outputs": [],
   "source": [
    "# read data from github\n",
    "df = pd.read_csv(\"https://raw.githubusercontent.com/Tsun1/DAV-540/master/data.csv\", index_col=[0, 1])\n",
    "# reset the index\n",
    "df.index = pd.MultiIndex.from_product([['ALASKA','AM WEST'], ['on time','delayed']])\n",
    "df.index.names = [\"airline\", \"type\"]\n",
    "# get full index values\n",
    "df = df.swaplevel()\n",
    "df = df.reset_index()\n",
    "# to \"long\" format\n",
    "df = pd.melt(df, [\"airline\", \"type\"])"
   ]
  },
  {
   "cell_type": "code",
   "execution_count": 4,
   "metadata": {},
   "outputs": [
    {
     "data": {
      "text/html": [
       "<div>\n",
       "<style scoped>\n",
       "    .dataframe tbody tr th:only-of-type {\n",
       "        vertical-align: middle;\n",
       "    }\n",
       "\n",
       "    .dataframe tbody tr th {\n",
       "        vertical-align: top;\n",
       "    }\n",
       "\n",
       "    .dataframe thead th {\n",
       "        text-align: right;\n",
       "    }\n",
       "</style>\n",
       "<table border=\"1\" class=\"dataframe\">\n",
       "  <thead>\n",
       "    <tr style=\"text-align: right;\">\n",
       "      <th></th>\n",
       "      <th>airline</th>\n",
       "      <th>type</th>\n",
       "      <th>variable</th>\n",
       "      <th>value</th>\n",
       "    </tr>\n",
       "  </thead>\n",
       "  <tbody>\n",
       "    <tr>\n",
       "      <th>0</th>\n",
       "      <td>ALASKA</td>\n",
       "      <td>on time</td>\n",
       "      <td>Los Angeles</td>\n",
       "      <td>497</td>\n",
       "    </tr>\n",
       "    <tr>\n",
       "      <th>1</th>\n",
       "      <td>ALASKA</td>\n",
       "      <td>delayed</td>\n",
       "      <td>Los Angeles</td>\n",
       "      <td>62</td>\n",
       "    </tr>\n",
       "    <tr>\n",
       "      <th>2</th>\n",
       "      <td>AM WEST</td>\n",
       "      <td>on time</td>\n",
       "      <td>Los Angeles</td>\n",
       "      <td>694</td>\n",
       "    </tr>\n",
       "    <tr>\n",
       "      <th>3</th>\n",
       "      <td>AM WEST</td>\n",
       "      <td>delayed</td>\n",
       "      <td>Los Angeles</td>\n",
       "      <td>117</td>\n",
       "    </tr>\n",
       "    <tr>\n",
       "      <th>4</th>\n",
       "      <td>ALASKA</td>\n",
       "      <td>on time</td>\n",
       "      <td>Phoenix</td>\n",
       "      <td>221</td>\n",
       "    </tr>\n",
       "  </tbody>\n",
       "</table>\n",
       "</div>"
      ],
      "text/plain": [
       "   airline     type     variable  value\n",
       "0   ALASKA  on time  Los Angeles    497\n",
       "1   ALASKA  delayed  Los Angeles     62\n",
       "2  AM WEST  on time  Los Angeles    694\n",
       "3  AM WEST  delayed  Los Angeles    117\n",
       "4   ALASKA  on time      Phoenix    221"
      ]
     },
     "execution_count": 4,
     "metadata": {},
     "output_type": "execute_result"
    }
   ],
   "source": [
    "df.head()"
   ]
  },
  {
   "cell_type": "markdown",
   "metadata": {},
   "source": [
    "### Part 3"
   ]
  },
  {
   "cell_type": "markdown",
   "metadata": {},
   "source": [
    "For each city, which airline had the best on time performance?"
   ]
  },
  {
   "cell_type": "code",
   "execution_count": 5,
   "metadata": {},
   "outputs": [
    {
     "name": "stdout",
     "output_type": "stream",
     "text": [
      "Los Angeles best performance airline is ALASKA\n",
      "Phoenix best performance airline is ALASKA\n",
      "San Diengo best performance airline is ALASKA\n",
      "San Francisco best performance airline is ALASKA\n",
      "Seattle best performance airline is ALASKA\n"
     ]
    }
   ],
   "source": [
    "# get all unique cities and airlines\n",
    "all_cities = df[\"variable\"].unique()\n",
    "all_airlines = df[\"airline\"].unique()\n",
    "for city in all_cities:\n",
    "    performance = 0\n",
    "    target = \"\"\n",
    "    for airline in all_airlines:\n",
    "        temp = df[(df[\"variable\"]==city) & (df[\"airline\"]==airline)]\n",
    "        on_time = temp[temp[\"type\"]==\"on time\"][\"value\"].values[0]\n",
    "        delayed = temp[temp[\"type\"]==\"delayed\"][\"value\"].values[0]\n",
    "        temp_performance =  on_time / (on_time + delayed)\n",
    "        # update the airline\n",
    "        if temp_performance > performance:\n",
    "            performance = on_time / (on_time + delayed)\n",
    "            target = airline\n",
    "    print(city, \"best performance airline is\", target)\n",
    "\n"
   ]
  },
  {
   "cell_type": "markdown",
   "metadata": {},
   "source": [
    "Which airline had the best overall on time performance?"
   ]
  },
  {
   "cell_type": "code",
   "execution_count": 6,
   "metadata": {},
   "outputs": [
    {
     "name": "stdout",
     "output_type": "stream",
     "text": [
      "The best performance airline is AM WEST\n"
     ]
    }
   ],
   "source": [
    "best = \"\"\n",
    "performance = 0\n",
    "for airline in all_airlines:\n",
    "    on_time = df[(df[\"type\"] == \"on time\") & (df[\"airline\"] == airline)][\"value\"].sum()\n",
    "    delayed = df[(df[\"type\"] == \"delayed\") & (df[\"airline\"] == airline)][\"value\"].sum()\n",
    "    # update the airline\n",
    "    if on_time / (on_time + delayed) > performance:\n",
    "        best = airline\n",
    "        performance = on_time / (on_time + delayed)\n",
    "print(\"The best performance airline is\", best)"
   ]
  },
  {
   "cell_type": "markdown",
   "metadata": {},
   "source": [
    "### Part 4"
   ]
  },
  {
   "cell_type": "code",
   "execution_count": 49,
   "metadata": {},
   "outputs": [
    {
     "data": {
      "text/html": [
       "<div>\n",
       "<style scoped>\n",
       "    .dataframe tbody tr th:only-of-type {\n",
       "        vertical-align: middle;\n",
       "    }\n",
       "\n",
       "    .dataframe tbody tr th {\n",
       "        vertical-align: top;\n",
       "    }\n",
       "\n",
       "    .dataframe thead th {\n",
       "        text-align: right;\n",
       "    }\n",
       "</style>\n",
       "<table border=\"1\" class=\"dataframe\">\n",
       "  <thead>\n",
       "    <tr style=\"text-align: right;\">\n",
       "      <th></th>\n",
       "      <th>variable</th>\n",
       "      <th>Los Angeles</th>\n",
       "      <th>Phoenix</th>\n",
       "      <th>San Diengo</th>\n",
       "      <th>San Francisco</th>\n",
       "      <th>Seattle</th>\n",
       "    </tr>\n",
       "    <tr>\n",
       "      <th>airline</th>\n",
       "      <th>type</th>\n",
       "      <th></th>\n",
       "      <th></th>\n",
       "      <th></th>\n",
       "      <th></th>\n",
       "      <th></th>\n",
       "    </tr>\n",
       "  </thead>\n",
       "  <tbody>\n",
       "    <tr>\n",
       "      <th rowspan=\"2\" valign=\"top\">ALASKA</th>\n",
       "      <th>on time</th>\n",
       "      <td>497</td>\n",
       "      <td>221</td>\n",
       "      <td>212</td>\n",
       "      <td>503</td>\n",
       "      <td>1841</td>\n",
       "    </tr>\n",
       "    <tr>\n",
       "      <th>delayed</th>\n",
       "      <td>62</td>\n",
       "      <td>12</td>\n",
       "      <td>20</td>\n",
       "      <td>102</td>\n",
       "      <td>305</td>\n",
       "    </tr>\n",
       "    <tr>\n",
       "      <th rowspan=\"2\" valign=\"top\">AM WEST</th>\n",
       "      <th>on time</th>\n",
       "      <td>694</td>\n",
       "      <td>4840</td>\n",
       "      <td>383</td>\n",
       "      <td>320</td>\n",
       "      <td>201</td>\n",
       "    </tr>\n",
       "    <tr>\n",
       "      <th>delayed</th>\n",
       "      <td>117</td>\n",
       "      <td>415</td>\n",
       "      <td>65</td>\n",
       "      <td>129</td>\n",
       "      <td>61</td>\n",
       "    </tr>\n",
       "  </tbody>\n",
       "</table>\n",
       "</div>"
      ],
      "text/plain": [
       "variable         Los Angeles  Phoenix  San Diengo  San Francisco  Seattle\n",
       "airline type                                                             \n",
       "ALASKA  on time          497      221         212            503     1841\n",
       "        delayed           62       12          20            102      305\n",
       "AM WEST on time          694     4840         383            320      201\n",
       "        delayed          117      415          65            129       61"
      ]
     },
     "execution_count": 49,
     "metadata": {},
     "output_type": "execute_result"
    }
   ],
   "source": [
    "# get on time and delayed dataframe \n",
    "temp1 =  df[df[\"type\"]==\"on time\"].pivot(index=\"airline\", columns=\"variable\", values=\"value\")\n",
    "temp2 = df[df[\"type\"]==\"delayed\"].pivot(index=\"airline\", columns=\"variable\", values=\"value\")\n",
    "temp1[\"type\"] = \"on time\"\n",
    "temp2[\"type\"] = \"delayed\"\n",
    "# merge two dataframes and set index\n",
    "result = pd.concat([temp1, temp2]).reset_index().sort_values(by=[\"airline\"]).set_index([\"airline\", \"type\"])\n",
    "result"
   ]
  }
 ],
 "metadata": {
  "kernelspec": {
   "display_name": "Python 3",
   "language": "python",
   "name": "python3"
  },
  "language_info": {
   "codemirror_mode": {
    "name": "ipython",
    "version": 3
   },
   "file_extension": ".py",
   "mimetype": "text/x-python",
   "name": "python",
   "nbconvert_exporter": "python",
   "pygments_lexer": "ipython3",
   "version": "3.7.3"
  }
 },
 "nbformat": 4,
 "nbformat_minor": 4
}
