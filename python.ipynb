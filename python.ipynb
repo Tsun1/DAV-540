{
 "cells": [
  {
   "cell_type": "markdown",
   "metadata": {},
   "source": [
    "### Part1"
   ]
  },
  {
   "cell_type": "code",
   "execution_count": 1,
   "metadata": {
    "jupyter": {
     "source_hidden": true
    }
   },
   "outputs": [],
   "source": [
    "import pandas as pd"
   ]
  },
  {
   "cell_type": "code",
   "execution_count": 2,
   "metadata": {},
   "outputs": [],
   "source": [
    "# read html\n",
    "df1 = pd.read_html(\"books.html\")[0]"
   ]
  },
  {
   "cell_type": "code",
   "execution_count": 3,
   "metadata": {},
   "outputs": [
    {
     "data": {
      "text/html": [
       "<div>\n",
       "<style scoped>\n",
       "    .dataframe tbody tr th:only-of-type {\n",
       "        vertical-align: middle;\n",
       "    }\n",
       "\n",
       "    .dataframe tbody tr th {\n",
       "        vertical-align: top;\n",
       "    }\n",
       "\n",
       "    .dataframe thead th {\n",
       "        text-align: right;\n",
       "    }\n",
       "</style>\n",
       "<table border=\"1\" class=\"dataframe\">\n",
       "  <thead>\n",
       "    <tr style=\"text-align: right;\">\n",
       "      <th></th>\n",
       "      <th>BookName</th>\n",
       "      <th>Authors</th>\n",
       "      <th>Price($)</th>\n",
       "      <th>Tags</th>\n",
       "    </tr>\n",
       "  </thead>\n",
       "  <tbody>\n",
       "    <tr>\n",
       "      <th>0</th>\n",
       "      <td>C++ Primer (5th Edition)</td>\n",
       "      <td>Stanley B. Lippman, JosÃ©e Lajoie, Barbara E. Moo</td>\n",
       "      <td>67.76</td>\n",
       "      <td>C++, Computer Science</td>\n",
       "    </tr>\n",
       "    <tr>\n",
       "      <th>1</th>\n",
       "      <td>How Computers Work (10th Edition)</td>\n",
       "      <td>Ron White, Timothy Edward Downs</td>\n",
       "      <td>40.38</td>\n",
       "      <td>Computer principle</td>\n",
       "    </tr>\n",
       "    <tr>\n",
       "      <th>2</th>\n",
       "      <td>Python Machine Learning</td>\n",
       "      <td>Sebastian Raschka, Vahid Mirjalili</td>\n",
       "      <td>52.46</td>\n",
       "      <td>Python, Computer Science</td>\n",
       "    </tr>\n",
       "  </tbody>\n",
       "</table>\n",
       "</div>"
      ],
      "text/plain": [
       "                            BookName  \\\n",
       "0           C++ Primer (5th Edition)   \n",
       "1  How Computers Work (10th Edition)   \n",
       "2            Python Machine Learning   \n",
       "\n",
       "                                             Authors  Price($)  \\\n",
       "0  Stanley B. Lippman, JosÃ©e Lajoie, Barbara E. Moo     67.76   \n",
       "1                    Ron White, Timothy Edward Downs     40.38   \n",
       "2                 Sebastian Raschka, Vahid Mirjalili     52.46   \n",
       "\n",
       "                       Tags  \n",
       "0     C++, Computer Science  \n",
       "1        Computer principle  \n",
       "2  Python, Computer Science  "
      ]
     },
     "execution_count": 3,
     "metadata": {},
     "output_type": "execute_result"
    }
   ],
   "source": [
    "df1"
   ]
  },
  {
   "cell_type": "code",
   "execution_count": 4,
   "metadata": {},
   "outputs": [],
   "source": [
    "# read json\n",
    "df2 = pd.read_json(\"books.json\")"
   ]
  },
  {
   "cell_type": "code",
   "execution_count": 5,
   "metadata": {},
   "outputs": [
    {
     "data": {
      "text/html": [
       "<div>\n",
       "<style scoped>\n",
       "    .dataframe tbody tr th:only-of-type {\n",
       "        vertical-align: middle;\n",
       "    }\n",
       "\n",
       "    .dataframe tbody tr th {\n",
       "        vertical-align: top;\n",
       "    }\n",
       "\n",
       "    .dataframe thead th {\n",
       "        text-align: right;\n",
       "    }\n",
       "</style>\n",
       "<table border=\"1\" class=\"dataframe\">\n",
       "  <thead>\n",
       "    <tr style=\"text-align: right;\">\n",
       "      <th></th>\n",
       "      <th>Authors</th>\n",
       "      <th>BookName</th>\n",
       "      <th>Price</th>\n",
       "      <th>Tags</th>\n",
       "    </tr>\n",
       "  </thead>\n",
       "  <tbody>\n",
       "    <tr>\n",
       "      <th>0</th>\n",
       "      <td>Stanley B. Lippman, Jos茅e Lajoie, Barbara E. Moo</td>\n",
       "      <td>C++ Primer (5th Edition)</td>\n",
       "      <td>67.76</td>\n",
       "      <td>C++, Computer Science</td>\n",
       "    </tr>\n",
       "    <tr>\n",
       "      <th>1</th>\n",
       "      <td>Ron White, Timothy Edward Downs</td>\n",
       "      <td>How Computers Work (10th Edition)</td>\n",
       "      <td>40.38</td>\n",
       "      <td>Computer principle</td>\n",
       "    </tr>\n",
       "    <tr>\n",
       "      <th>2</th>\n",
       "      <td>Sebastian Raschka, Vahid Mirjalili</td>\n",
       "      <td>Python Machine Learning</td>\n",
       "      <td>52.46</td>\n",
       "      <td>Python, Computer Science</td>\n",
       "    </tr>\n",
       "  </tbody>\n",
       "</table>\n",
       "</div>"
      ],
      "text/plain": [
       "                                            Authors  \\\n",
       "0  Stanley B. Lippman, Jos茅e Lajoie, Barbara E. Moo   \n",
       "1                   Ron White, Timothy Edward Downs   \n",
       "2                Sebastian Raschka, Vahid Mirjalili   \n",
       "\n",
       "                            BookName  Price                      Tags  \n",
       "0           C++ Primer (5th Edition)  67.76     C++, Computer Science  \n",
       "1  How Computers Work (10th Edition)  40.38        Computer principle  \n",
       "2            Python Machine Learning  52.46  Python, Computer Science  "
      ]
     },
     "execution_count": 5,
     "metadata": {},
     "output_type": "execute_result"
    }
   ],
   "source": [
    "df2"
   ]
  },
  {
   "cell_type": "code",
   "execution_count": 13,
   "metadata": {},
   "outputs": [],
   "source": [
    "# read xml \n",
    "import xml.etree.ElementTree as ET\n",
    "xtree = ET.parse(\"books.xml\")\n",
    "xroot = xtree.getroot()\n",
    "\n",
    "cols = [\"BookName\", \"Authors\", \"Price\", \"Tags\"]\n",
    "rows = []\n",
    "for node in xroot:\n",
    "    book_name = node.find(\"BookName\").text\n",
    "    authors = node.find(\"Authors\").text\n",
    "    price = node.find(\"Price\").text\n",
    "    tags = node.find(\"Tags\").text\n",
    "    rows.append({\"BookName\":book_name, \"Authors\": authors, \"Price\":price, \"Tags\":tags})\n",
    "\n",
    "df3 = pd.DataFrame(rows, columns=cols)"
   ]
  },
  {
   "cell_type": "code",
   "execution_count": 14,
   "metadata": {},
   "outputs": [
    {
     "data": {
      "text/html": [
       "<div>\n",
       "<style scoped>\n",
       "    .dataframe tbody tr th:only-of-type {\n",
       "        vertical-align: middle;\n",
       "    }\n",
       "\n",
       "    .dataframe tbody tr th {\n",
       "        vertical-align: top;\n",
       "    }\n",
       "\n",
       "    .dataframe thead th {\n",
       "        text-align: right;\n",
       "    }\n",
       "</style>\n",
       "<table border=\"1\" class=\"dataframe\">\n",
       "  <thead>\n",
       "    <tr style=\"text-align: right;\">\n",
       "      <th></th>\n",
       "      <th>BookName</th>\n",
       "      <th>Authors</th>\n",
       "      <th>Price</th>\n",
       "      <th>Tags</th>\n",
       "    </tr>\n",
       "  </thead>\n",
       "  <tbody>\n",
       "    <tr>\n",
       "      <th>0</th>\n",
       "      <td>C++ Primer (5th Edition)</td>\n",
       "      <td>Stanley B. Lippman , Josée Lajoie , Barbara E....</td>\n",
       "      <td>67.76</td>\n",
       "      <td>C++, Computer Science</td>\n",
       "    </tr>\n",
       "    <tr>\n",
       "      <th>1</th>\n",
       "      <td>How Computers Work (10th Edition)</td>\n",
       "      <td>Ron White, Timothy Edward Downs</td>\n",
       "      <td>40.38</td>\n",
       "      <td>Computer principle</td>\n",
       "    </tr>\n",
       "    <tr>\n",
       "      <th>2</th>\n",
       "      <td>Python Machine Learning</td>\n",
       "      <td>Sebastian Raschka , Vahid Mirjalili</td>\n",
       "      <td>52.46</td>\n",
       "      <td>Python, Computer Science</td>\n",
       "    </tr>\n",
       "  </tbody>\n",
       "</table>\n",
       "</div>"
      ],
      "text/plain": [
       "                            BookName  \\\n",
       "0           C++ Primer (5th Edition)   \n",
       "1  How Computers Work (10th Edition)   \n",
       "2            Python Machine Learning   \n",
       "\n",
       "                                             Authors  Price  \\\n",
       "0  Stanley B. Lippman , Josée Lajoie , Barbara E....  67.76   \n",
       "1                    Ron White, Timothy Edward Downs  40.38   \n",
       "2               Sebastian Raschka , Vahid Mirjalili   52.46   \n",
       "\n",
       "                       Tags  \n",
       "0     C++, Computer Science  \n",
       "1        Computer principle  \n",
       "2  Python, Computer Science  "
      ]
     },
     "execution_count": 14,
     "metadata": {},
     "output_type": "execute_result"
    }
   ],
   "source": [
    "df3"
   ]
  },
  {
   "cell_type": "markdown",
   "metadata": {},
   "source": [
    "Three dataframe is almost the same except that "
   ]
  },
  {
   "cell_type": "markdown",
   "metadata": {},
   "source": [
    "### Part2"
   ]
  },
  {
   "cell_type": "code",
   "execution_count": 15,
   "metadata": {},
   "outputs": [],
   "source": [
    "import requests\n",
    "# get the data\n",
    "resp = requests.get('https://api.nytimes.com/svc/search/v2/articlesearch.json?q=computer&api-key=U2rGlMvv6MmrkwGIlAWdBW9xsxVxXZfU')\n",
    "resp_json = resp.json()"
   ]
  },
  {
   "cell_type": "code",
   "execution_count": 18,
   "metadata": {},
   "outputs": [
    {
     "data": {
      "text/plain": [
       "dict_keys(['abstract', 'web_url', 'snippet', 'lead_paragraph', 'print_section', 'print_page', 'source', 'multimedia', 'headline', 'keywords', 'pub_date', 'document_type', 'news_desk', 'section_name', 'byline', 'type_of_material', '_id', 'word_count', 'uri'])"
      ]
     },
     "execution_count": 18,
     "metadata": {},
     "output_type": "execute_result"
    }
   ],
   "source": [
    "resp_json[\"response\"][\"docs\"][0].keys()"
   ]
  },
  {
   "cell_type": "code",
   "execution_count": 20,
   "metadata": {},
   "outputs": [
    {
     "data": {
      "text/plain": [
       "'News'"
      ]
     },
     "execution_count": 20,
     "metadata": {},
     "output_type": "execute_result"
    }
   ],
   "source": [
    "resp_json[\"response\"][\"docs\"][0][\"type_of_material\"]"
   ]
  },
  {
   "cell_type": "code",
   "execution_count": 21,
   "metadata": {},
   "outputs": [
    {
     "data": {
      "text/plain": [
       "'Technology'"
      ]
     },
     "execution_count": 21,
     "metadata": {},
     "output_type": "execute_result"
    }
   ],
   "source": [
    "resp_json[\"response\"][\"docs\"][0][\"section_name\"]"
   ]
  },
  {
   "cell_type": "code",
   "execution_count": 22,
   "metadata": {},
   "outputs": [
    {
     "data": {
      "text/plain": [
       "{'original': 'By Cade Metz',\n",
       " 'person': [{'firstname': 'Cade',\n",
       "   'middlename': None,\n",
       "   'lastname': 'Metz',\n",
       "   'qualifier': None,\n",
       "   'title': None,\n",
       "   'role': 'reported',\n",
       "   'organization': '',\n",
       "   'rank': 1}],\n",
       " 'organization': None}"
      ]
     },
     "execution_count": 22,
     "metadata": {},
     "output_type": "execute_result"
    }
   ],
   "source": [
    "resp_json[\"response\"][\"docs\"][0][\"byline\"]"
   ]
  },
  {
   "cell_type": "code",
   "execution_count": 23,
   "metadata": {},
   "outputs": [
    {
     "data": {
      "text/plain": [
       "{'main': 'Internet Companies Prepare to Fight the ‘Deepfake’ Future',\n",
       " 'kicker': None,\n",
       " 'content_kicker': None,\n",
       " 'print_headline': 'Spot the Deepfake. (It’s Getting Harder.)',\n",
       " 'name': None,\n",
       " 'seo': None,\n",
       " 'sub': None}"
      ]
     },
     "execution_count": 23,
     "metadata": {},
     "output_type": "execute_result"
    }
   ],
   "source": [
    "resp_json[\"response\"][\"docs\"][0][\"headline\"]"
   ]
  },
  {
   "cell_type": "code",
   "execution_count": 31,
   "metadata": {},
   "outputs": [],
   "source": [
    "rows1 = []\n",
    "cols1 = [\"title\", \"abstract\", \"web_url\", \"pub_date\", \"document_type\", \"type_of_material\", \"word_count\", \"authors\"] \n",
    "for each_doc in resp_json[\"response\"][\"docs\"]:\n",
    "    rows1.append({\"title\": each_doc[\"headline\"][\"main\"], \"abstract\": each_doc[\"abstract\"],\n",
    "                     \"web_url\": each_doc[\"web_url\"], \"pub_date\": each_doc[\"pub_date\"], \"document_type\": each_doc[\"document_type\"],\n",
    "                     \"type_of_material\": each_doc[\"type_of_material\"], \"word_count\": each_doc[\"word_count\"],\n",
    "                     \"authors\": each_doc[\"byline\"][\"original\"]})\n",
    "df4 = pd.DataFrame(rows1, columns=cols1)"
   ]
  },
  {
   "cell_type": "code",
   "execution_count": 32,
   "metadata": {},
   "outputs": [
    {
     "data": {
      "text/html": [
       "<div>\n",
       "<style scoped>\n",
       "    .dataframe tbody tr th:only-of-type {\n",
       "        vertical-align: middle;\n",
       "    }\n",
       "\n",
       "    .dataframe tbody tr th {\n",
       "        vertical-align: top;\n",
       "    }\n",
       "\n",
       "    .dataframe thead th {\n",
       "        text-align: right;\n",
       "    }\n",
       "</style>\n",
       "<table border=\"1\" class=\"dataframe\">\n",
       "  <thead>\n",
       "    <tr style=\"text-align: right;\">\n",
       "      <th></th>\n",
       "      <th>title</th>\n",
       "      <th>abstract</th>\n",
       "      <th>web_url</th>\n",
       "      <th>pub_date</th>\n",
       "      <th>document_type</th>\n",
       "      <th>type_of_material</th>\n",
       "      <th>word_count</th>\n",
       "      <th>authors</th>\n",
       "    </tr>\n",
       "  </thead>\n",
       "  <tbody>\n",
       "    <tr>\n",
       "      <th>0</th>\n",
       "      <td>Internet Companies Prepare to Fight the ‘Deepf...</td>\n",
       "      <td>Researchers are creating tools to find A.I.-ge...</td>\n",
       "      <td>https://www.nytimes.com/2019/11/24/technology/...</td>\n",
       "      <td>2019-11-24T10:00:13+0000</td>\n",
       "      <td>article</td>\n",
       "      <td>News</td>\n",
       "      <td>1172</td>\n",
       "      <td>By Cade Metz</td>\n",
       "    </tr>\n",
       "    <tr>\n",
       "      <th>1</th>\n",
       "      <td>The Criminal Silicon Valley Is Thriving</td>\n",
       "      <td>Eastern Europe’s cybercriminals are highly sop...</td>\n",
       "      <td>https://www.nytimes.com/2019/11/29/opinion/the...</td>\n",
       "      <td>2019-11-29T20:00:06+0000</td>\n",
       "      <td>article</td>\n",
       "      <td>Op-Ed</td>\n",
       "      <td>995</td>\n",
       "      <td>By Jonathan Lusthaus</td>\n",
       "    </tr>\n",
       "    <tr>\n",
       "      <th>2</th>\n",
       "      <td>Leonardo DiCaprio Responds to Brazil’s Preside...</td>\n",
       "      <td>The actor and environmentalist released a stat...</td>\n",
       "      <td>https://www.nytimes.com/2019/11/30/world/ameri...</td>\n",
       "      <td>2019-12-01T01:03:22+0000</td>\n",
       "      <td>article</td>\n",
       "      <td>News</td>\n",
       "      <td>540</td>\n",
       "      <td>By Aimee Ortiz</td>\n",
       "    </tr>\n",
       "    <tr>\n",
       "      <th>3</th>\n",
       "      <td>I Invented the World Wide Web. Here’s How We C...</td>\n",
       "      <td>I wanted the web to serve humanity. It’s not t...</td>\n",
       "      <td>https://www.nytimes.com/2019/11/24/opinion/wor...</td>\n",
       "      <td>2019-11-25T00:00:06+0000</td>\n",
       "      <td>article</td>\n",
       "      <td>Op-Ed</td>\n",
       "      <td>935</td>\n",
       "      <td>By Tim Berners-Lee</td>\n",
       "    </tr>\n",
       "    <tr>\n",
       "      <th>4</th>\n",
       "      <td>Apple, Bowing to Russian Pressure, Recognizes ...</td>\n",
       "      <td>The tech giant, following Google and others, h...</td>\n",
       "      <td>https://www.nytimes.com/2019/11/28/world/europ...</td>\n",
       "      <td>2019-11-28T07:39:04+0000</td>\n",
       "      <td>article</td>\n",
       "      <td>News</td>\n",
       "      <td>809</td>\n",
       "      <td>By Andrew Higgins</td>\n",
       "    </tr>\n",
       "    <tr>\n",
       "      <th>5</th>\n",
       "      <td>A Pennsylvania County’s Election Day Nightmare...</td>\n",
       "      <td>How “everything went wrong” in Northampton Cou...</td>\n",
       "      <td>https://www.nytimes.com/2019/11/30/us/politics...</td>\n",
       "      <td>2019-11-30T10:00:10+0000</td>\n",
       "      <td>article</td>\n",
       "      <td>News</td>\n",
       "      <td>1467</td>\n",
       "      <td>By Nick Corasaniti</td>\n",
       "    </tr>\n",
       "    <tr>\n",
       "      <th>6</th>\n",
       "      <td>The Worst Tech Gifts We Give (and How to Do Be...</td>\n",
       "      <td>Gift cards and phone chargers make terrible pr...</td>\n",
       "      <td>https://www.nytimes.com/2019/11/27/technology/...</td>\n",
       "      <td>2019-11-27T10:00:22+0000</td>\n",
       "      <td>article</td>\n",
       "      <td>Review</td>\n",
       "      <td>1073</td>\n",
       "      <td>By Brian X. Chen</td>\n",
       "    </tr>\n",
       "    <tr>\n",
       "      <th>7</th>\n",
       "      <td>A Better Internet Is Waiting for Us</td>\n",
       "      <td>My quest to imagine a different reality.</td>\n",
       "      <td>https://www.nytimes.com/interactive/2019/11/30...</td>\n",
       "      <td>2019-11-30T20:00:03+0000</td>\n",
       "      <td>multimedia</td>\n",
       "      <td>Interactive Feature</td>\n",
       "      <td>0</td>\n",
       "      <td>By Annalee Newitz</td>\n",
       "    </tr>\n",
       "    <tr>\n",
       "      <th>8</th>\n",
       "      <td>No, That Mac Factory in Texas Is Not New</td>\n",
       "      <td>President Trump said on Wednesday that he open...</td>\n",
       "      <td>https://www.nytimes.com/2019/11/20/us/politics...</td>\n",
       "      <td>2019-11-21T03:16:10+0000</td>\n",
       "      <td>article</td>\n",
       "      <td>News Analysis</td>\n",
       "      <td>837</td>\n",
       "      <td>By Jack Nicas</td>\n",
       "    </tr>\n",
       "    <tr>\n",
       "      <th>9</th>\n",
       "      <td>You Can’t Fire Mark Zuckerberg’s Kid’s Kids</td>\n",
       "      <td>There’s a problem with tech companies using du...</td>\n",
       "      <td>https://www.nytimes.com/2019/11/27/opinion/tec...</td>\n",
       "      <td>2019-11-27T15:59:34+0000</td>\n",
       "      <td>article</td>\n",
       "      <td>Op-Ed</td>\n",
       "      <td>872</td>\n",
       "      <td>By Kara Swisher</td>\n",
       "    </tr>\n",
       "  </tbody>\n",
       "</table>\n",
       "</div>"
      ],
      "text/plain": [
       "                                               title  \\\n",
       "0  Internet Companies Prepare to Fight the ‘Deepf...   \n",
       "1            The Criminal Silicon Valley Is Thriving   \n",
       "2  Leonardo DiCaprio Responds to Brazil’s Preside...   \n",
       "3  I Invented the World Wide Web. Here’s How We C...   \n",
       "4  Apple, Bowing to Russian Pressure, Recognizes ...   \n",
       "5  A Pennsylvania County’s Election Day Nightmare...   \n",
       "6  The Worst Tech Gifts We Give (and How to Do Be...   \n",
       "7                A Better Internet Is Waiting for Us   \n",
       "8           No, That Mac Factory in Texas Is Not New   \n",
       "9        You Can’t Fire Mark Zuckerberg’s Kid’s Kids   \n",
       "\n",
       "                                            abstract  \\\n",
       "0  Researchers are creating tools to find A.I.-ge...   \n",
       "1  Eastern Europe’s cybercriminals are highly sop...   \n",
       "2  The actor and environmentalist released a stat...   \n",
       "3  I wanted the web to serve humanity. It’s not t...   \n",
       "4  The tech giant, following Google and others, h...   \n",
       "5  How “everything went wrong” in Northampton Cou...   \n",
       "6  Gift cards and phone chargers make terrible pr...   \n",
       "7           My quest to imagine a different reality.   \n",
       "8  President Trump said on Wednesday that he open...   \n",
       "9  There’s a problem with tech companies using du...   \n",
       "\n",
       "                                             web_url  \\\n",
       "0  https://www.nytimes.com/2019/11/24/technology/...   \n",
       "1  https://www.nytimes.com/2019/11/29/opinion/the...   \n",
       "2  https://www.nytimes.com/2019/11/30/world/ameri...   \n",
       "3  https://www.nytimes.com/2019/11/24/opinion/wor...   \n",
       "4  https://www.nytimes.com/2019/11/28/world/europ...   \n",
       "5  https://www.nytimes.com/2019/11/30/us/politics...   \n",
       "6  https://www.nytimes.com/2019/11/27/technology/...   \n",
       "7  https://www.nytimes.com/interactive/2019/11/30...   \n",
       "8  https://www.nytimes.com/2019/11/20/us/politics...   \n",
       "9  https://www.nytimes.com/2019/11/27/opinion/tec...   \n",
       "\n",
       "                   pub_date document_type     type_of_material  word_count  \\\n",
       "0  2019-11-24T10:00:13+0000       article                 News        1172   \n",
       "1  2019-11-29T20:00:06+0000       article                Op-Ed         995   \n",
       "2  2019-12-01T01:03:22+0000       article                 News         540   \n",
       "3  2019-11-25T00:00:06+0000       article                Op-Ed         935   \n",
       "4  2019-11-28T07:39:04+0000       article                 News         809   \n",
       "5  2019-11-30T10:00:10+0000       article                 News        1467   \n",
       "6  2019-11-27T10:00:22+0000       article               Review        1073   \n",
       "7  2019-11-30T20:00:03+0000    multimedia  Interactive Feature           0   \n",
       "8  2019-11-21T03:16:10+0000       article        News Analysis         837   \n",
       "9  2019-11-27T15:59:34+0000       article                Op-Ed         872   \n",
       "\n",
       "                authors  \n",
       "0          By Cade Metz  \n",
       "1  By Jonathan Lusthaus  \n",
       "2        By Aimee Ortiz  \n",
       "3    By Tim Berners-Lee  \n",
       "4     By Andrew Higgins  \n",
       "5    By Nick Corasaniti  \n",
       "6      By Brian X. Chen  \n",
       "7     By Annalee Newitz  \n",
       "8         By Jack Nicas  \n",
       "9       By Kara Swisher  "
      ]
     },
     "execution_count": 32,
     "metadata": {},
     "output_type": "execute_result"
    }
   ],
   "source": [
    "df4"
   ]
  },
  {
   "cell_type": "code",
   "execution_count": null,
   "metadata": {},
   "outputs": [],
   "source": []
  }
 ],
 "metadata": {
  "kernelspec": {
   "display_name": "Python 3",
   "language": "python",
   "name": "python3"
  },
  "language_info": {
   "codemirror_mode": {
    "name": "ipython",
    "version": 3
   },
   "file_extension": ".py",
   "mimetype": "text/x-python",
   "name": "python",
   "nbconvert_exporter": "python",
   "pygments_lexer": "ipython3",
   "version": "3.7.3"
  }
 },
 "nbformat": 4,
 "nbformat_minor": 4
}
