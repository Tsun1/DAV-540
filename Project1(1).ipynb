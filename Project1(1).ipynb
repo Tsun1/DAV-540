{
 "cells": [
  {
   "cell_type": "markdown",
   "metadata": {},
   "source": [
    "# Analytical Questions"
   ]
  },
  {
   "cell_type": "markdown",
   "metadata": {},
   "source": [
    "## Q1\n",
    "Which flight has the highest punctuality rate with the number of flights more than 30?\n",
    "\n",
    "## Q2\n",
    "What is the main reason for the cancellation of the flight?\n",
    "\n",
    "## Q3\n",
    "Which flight has the highest average arrival delay with the number of flights more than 20?\n",
    "\n",
    "Reason for choosing these question: The answers for these questions can provide some useful infomation for \n",
    "adjusting flight and finding some problems of current flight schedule. "
   ]
  },
  {
   "cell_type": "markdown",
   "metadata": {},
   "source": [
    "#### Import needed module"
   ]
  },
  {
   "cell_type": "code",
   "execution_count": 14,
   "metadata": {},
   "outputs": [],
   "source": [
    "import pandas as pd\n",
    "import matplotlib.pyplot as plt"
   ]
  },
  {
   "cell_type": "markdown",
   "metadata": {},
   "source": [
    "#### Import data"
   ]
  },
  {
   "cell_type": "code",
   "execution_count": 2,
   "metadata": {},
   "outputs": [],
   "source": [
    "filename = \"https://raw.githubusercontent.com/jtopor/DAV-5400/master/Project1/hflights.csv\"\n",
    "flights_df = pd.read_csv(filename)"
   ]
  },
  {
   "cell_type": "markdown",
   "metadata": {},
   "source": [
    "#### Get a new attribute 'Late'\n",
    "The attribute 'Late' indicates whether the flight is late or not. A flight is late for arriving or departing 15 minutes or more after the scheduled time."
   ]
  },
  {
   "cell_type": "code",
   "execution_count": 4,
   "metadata": {},
   "outputs": [],
   "source": [
    "def get_late_info(item):\n",
    "    # check for arrival delay and departing delay\n",
    "    if item.loc['ArrDelay'] >= 15 or item.loc['DepDelay'] >=15:\n",
    "        return 1\n",
    "    return 0\n",
    "\n",
    "flights_df['Late'] = flights_df.apply(get_late_info, axis=1)"
   ]
  },
  {
   "cell_type": "markdown",
   "metadata": {},
   "source": [
    "#### Solve Q1"
   ]
  },
  {
   "cell_type": "code",
   "execution_count": 12,
   "metadata": {},
   "outputs": [
    {
     "data": {
      "text/html": [
       "<div>\n",
       "<style scoped>\n",
       "    .dataframe tbody tr th:only-of-type {\n",
       "        vertical-align: middle;\n",
       "    }\n",
       "\n",
       "    .dataframe tbody tr th {\n",
       "        vertical-align: top;\n",
       "    }\n",
       "\n",
       "    .dataframe thead th {\n",
       "        text-align: right;\n",
       "    }\n",
       "</style>\n",
       "<table border=\"1\" class=\"dataframe\">\n",
       "  <thead>\n",
       "    <tr style=\"text-align: right;\">\n",
       "      <th></th>\n",
       "      <th>FlightNum</th>\n",
       "      <th>LateCount</th>\n",
       "      <th>Total</th>\n",
       "      <th>In-Time</th>\n",
       "      <th>In-Time-Rate</th>\n",
       "    </tr>\n",
       "  </thead>\n",
       "  <tbody>\n",
       "    <tr>\n",
       "      <th>538</th>\n",
       "      <td>1471</td>\n",
       "      <td>0</td>\n",
       "      <td>31</td>\n",
       "      <td>31</td>\n",
       "      <td>1.000000</td>\n",
       "    </tr>\n",
       "    <tr>\n",
       "      <th>591</th>\n",
       "      <td>1623</td>\n",
       "      <td>0</td>\n",
       "      <td>32</td>\n",
       "      <td>32</td>\n",
       "      <td>1.000000</td>\n",
       "    </tr>\n",
       "    <tr>\n",
       "      <th>626</th>\n",
       "      <td>1714</td>\n",
       "      <td>0</td>\n",
       "      <td>31</td>\n",
       "      <td>31</td>\n",
       "      <td>1.000000</td>\n",
       "    </tr>\n",
       "    <tr>\n",
       "      <th>175</th>\n",
       "      <td>358</td>\n",
       "      <td>0</td>\n",
       "      <td>31</td>\n",
       "      <td>31</td>\n",
       "      <td>1.000000</td>\n",
       "    </tr>\n",
       "    <tr>\n",
       "      <th>423</th>\n",
       "      <td>1048</td>\n",
       "      <td>1</td>\n",
       "      <td>35</td>\n",
       "      <td>34</td>\n",
       "      <td>0.971429</td>\n",
       "    </tr>\n",
       "  </tbody>\n",
       "</table>\n",
       "</div>"
      ],
      "text/plain": [
       "     FlightNum  LateCount  Total  In-Time  In-Time-Rate\n",
       "538       1471          0     31       31      1.000000\n",
       "591       1623          0     32       32      1.000000\n",
       "626       1714          0     31       31      1.000000\n",
       "175        358          0     31       31      1.000000\n",
       "423       1048          1     35       34      0.971429"
      ]
     },
     "execution_count": 12,
     "metadata": {},
     "output_type": "execute_result"
    }
   ],
   "source": [
    "# get the late count and total number of flights\n",
    "late_info = flights_df.groupby(by=['FlightNum']).agg({'Late': sum, 'Year': 'count'}).reset_index().rename(columns={'Late': 'LateCount', 'Year': 'Total'})\n",
    "# get the in-time count\n",
    "late_info['In-Time'] = late_info['Total'] - late_info['LateCount']\n",
    "# calculate the In-time rate\n",
    "late_info['In-Time-Rate'] = late_info['In-Time'] / late_info['Total']\n",
    "# sorted by In-time rate\n",
    "sorted_df = late_info.sort_values(by=['In-Time-Rate'], ascending=False)\n",
    "\n",
    "sorted_df[sorted_df['Total'] > 30].head()"
   ]
  },
  {
   "cell_type": "markdown",
   "metadata": {},
   "source": [
    "From the above analysis, the flight num 1471, 1623, 1714, 358 have the highest in-time rate."
   ]
  },
  {
   "cell_type": "markdown",
   "metadata": {},
   "source": [
    "#### Solve Q2"
   ]
  },
  {
   "cell_type": "code",
   "execution_count": 17,
   "metadata": {},
   "outputs": [
    {
     "data": {
      "image/png": "[encoded data removed]",
      "text/plain": [
       "<Figure size 432x288 with 1 Axes>"
      ]
     },
     "metadata": {
      "needs_background": "light"
     },
     "output_type": "display_data"
    }
   ],
   "source": [
    "# get the flights with cancelltion\n",
    "cancellation_df = flights_df[flights_df['Cancelled'] == 1]\n",
    "# group the dataframe by cancellation code\n",
    "count_df = cancellation_df.groupby(by=['CancellationCode']).agg({'Year': 'count'}).rename(columns={'Year': 'CodeCount'})\n",
    "# plot the bar plot\n",
    "plt.figure()\n",
    "plt.bar(count_df.index, height=count_df['CodeCount'])\n",
    "plt.title(\"Count of different reasons of cancellation\")\n",
    "plt.xlabel(\"Reason\")\n",
    "plt.ylabel(\"Reason Count\")\n",
    "plt.show()"
   ]
  },
  {
   "cell_type": "markdown",
   "metadata": {},
   "source": [
    "As the figure showed above, weather is main cause of cancellation of flight."
   ]
  },
  {
   "cell_type": "markdown",
   "metadata": {},
   "source": [
    "#### Solve Q3"
   ]
  },
  {
   "cell_type": "code",
   "execution_count": 21,
   "metadata": {},
   "outputs": [
    {
     "data": {
      "text/html": [
       "<div>\n",
       "<style scoped>\n",
       "    .dataframe tbody tr th:only-of-type {\n",
       "        vertical-align: middle;\n",
       "    }\n",
       "\n",
       "    .dataframe tbody tr th {\n",
       "        vertical-align: top;\n",
       "    }\n",
       "\n",
       "    .dataframe thead th {\n",
       "        text-align: right;\n",
       "    }\n",
       "</style>\n",
       "<table border=\"1\" class=\"dataframe\">\n",
       "  <thead>\n",
       "    <tr style=\"text-align: right;\">\n",
       "      <th></th>\n",
       "      <th>FlightNum</th>\n",
       "      <th>TotalDelayTime</th>\n",
       "      <th>Count</th>\n",
       "      <th>Average</th>\n",
       "    </tr>\n",
       "  </thead>\n",
       "  <tbody>\n",
       "    <tr>\n",
       "      <th>1219</th>\n",
       "      <td>5003</td>\n",
       "      <td>1254.0</td>\n",
       "      <td>26</td>\n",
       "      <td>48.230769</td>\n",
       "    </tr>\n",
       "    <tr>\n",
       "      <th>53</th>\n",
       "      <td>59</td>\n",
       "      <td>1572.0</td>\n",
       "      <td>35</td>\n",
       "      <td>44.914286</td>\n",
       "    </tr>\n",
       "    <tr>\n",
       "      <th>1205</th>\n",
       "      <td>3786</td>\n",
       "      <td>954.0</td>\n",
       "      <td>31</td>\n",
       "      <td>30.774194</td>\n",
       "    </tr>\n",
       "    <tr>\n",
       "      <th>304</th>\n",
       "      <td>670</td>\n",
       "      <td>697.0</td>\n",
       "      <td>24</td>\n",
       "      <td>29.041667</td>\n",
       "    </tr>\n",
       "    <tr>\n",
       "      <th>596</th>\n",
       "      <td>1632</td>\n",
       "      <td>778.0</td>\n",
       "      <td>27</td>\n",
       "      <td>28.814815</td>\n",
       "    </tr>\n",
       "  </tbody>\n",
       "</table>\n",
       "</div>"
      ],
      "text/plain": [
       "      FlightNum  TotalDelayTime  Count    Average\n",
       "1219       5003          1254.0     26  48.230769\n",
       "53           59          1572.0     35  44.914286\n",
       "1205       3786           954.0     31  30.774194\n",
       "304         670           697.0     24  29.041667\n",
       "596        1632           778.0     27  28.814815"
      ]
     },
     "execution_count": 21,
     "metadata": {},
     "output_type": "execute_result"
    }
   ],
   "source": [
    "# Q3\n",
    "normal_flight_df = flights_df[flights_df['Cancelled'] == 0]\n",
    "# count the total delay time\n",
    "result = normal_flight_df.groupby(by=[\"FlightNum\"]).agg({'ArrDelay': sum, 'Year': 'count'}).reset_index().rename(columns={'ArrDelay': 'TotalDelayTime', 'Year': 'Count'})\n",
    "# get the average\n",
    "result['Average'] = result['TotalDelayTime'] / result['Count']\n",
    "# sort the average\n",
    "result = result.sort_values(by=['Average'], ascending=False)\n",
    "\n",
    "result[result['Count'] > 20].head()"
   ]
  },
  {
   "cell_type": "markdown",
   "metadata": {},
   "source": [
    "From the table above, the flight num 5003 has the highest average delay time."
   ]
  }
 ],
 "metadata": {
  "kernelspec": {
   "display_name": "Python 3",
   "language": "python",
   "name": "python3"
  },
  "language_info": {
   "codemirror_mode": {
    "name": "ipython",
    "version": 3
   },
   "file_extension": ".py",
   "mimetype": "text/x-python",
   "name": "python",
   "nbconvert_exporter": "python",
   "pygments_lexer": "ipython3",
   "version": "3.7.0"
  }
 },
 "nbformat": 4,
 "nbformat_minor": 2
}
