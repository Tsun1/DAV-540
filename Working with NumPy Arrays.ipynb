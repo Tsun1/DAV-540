{
 "cells": [
  {
   "cell_type": "markdown",
   "metadata": {},
   "source": [
    "### Q1"
   ]
  },
  {
   "cell_type": "code",
   "execution_count": 1,
   "metadata": {},
   "outputs": [],
   "source": [
    "import numpy as np"
   ]
  },
  {
   "cell_type": "code",
   "execution_count": 2,
   "metadata": {},
   "outputs": [
    {
     "data": {
      "text/plain": [
       "array([2, 4])"
      ]
     },
     "execution_count": 2,
     "metadata": {},
     "output_type": "execute_result"
    }
   ],
   "source": [
    "a = np.array([1, 2, 3, 2, 3, 4, 3, 4, 5, 6])\n",
    "b = np.array([7, 2, 10, 2, 7, 4, 9, 4, 9, 8])\n",
    "# use np.intersect1d to get the intersection of two array\n",
    "np.intersect1d(a, b)"
   ]
  },
  {
   "cell_type": "markdown",
   "metadata": {},
   "source": [
    "### Q2"
   ]
  },
  {
   "cell_type": "code",
   "execution_count": 3,
   "metadata": {},
   "outputs": [
    {
     "data": {
      "text/plain": [
       "array([[ 1,  6, 11],\n",
       "       [ 2,  7, 12],\n",
       "       [ 3,  8, 13],\n",
       "       [ 4,  9, 14],\n",
       "       [ 5, 10, 15]])"
      ]
     },
     "execution_count": 3,
     "metadata": {},
     "output_type": "execute_result"
    }
   ],
   "source": [
    "# generate all needed integers\n",
    "a_list = [i for i in range(1, 16)]\n",
    "# reshape the list and transpose the array\n",
    "np.array(a_list).reshape((3, 5)).T"
   ]
  },
  {
   "cell_type": "markdown",
   "metadata": {},
   "source": [
    "### Q3"
   ]
  },
  {
   "cell_type": "code",
   "execution_count": 4,
   "metadata": {},
   "outputs": [
    {
     "data": {
      "text/plain": [
       "array([ 7, 15,  1,  8])"
      ]
     },
     "execution_count": 4,
     "metadata": {},
     "output_type": "execute_result"
    }
   ],
   "source": [
    "a = np.array([12, 5, 7, 15, 3, 1, 8])\n",
    "b = np.array([14, 6, 3, 11, 19, 12, 5])\n",
    "result = []\n",
    "for i in np.intersect1d(a, b):\n",
    "    # put each target number's index in a into result\n",
    "    result.extend(np.where(a == i)[0].tolist())\n",
    "# use np.delete to delete the target items in a\n",
    "np.delete(a, result)\n"
   ]
  },
  {
   "cell_type": "markdown",
   "metadata": {},
   "source": [
    "### Q4"
   ]
  },
  {
   "cell_type": "code",
   "execution_count": 5,
   "metadata": {},
   "outputs": [
    {
     "name": "stdout",
     "output_type": "stream",
     "text": [
      "Day 1: no riding\n",
      "Day 2: no riding\n",
      "Day 3: 50 miles\n",
      "Day 4: 50 miles\n",
      "Day 5: 50 miles\n",
      "Day 6: no riding\n",
      "Day 7: 51 miles\n",
      "Day 8: 54 miles\n",
      "Day 9: no riding\n",
      "Day 10: 55 miles\n",
      "Day 11: 55 miles\n",
      "Day 12: 52 miles\n",
      "Day 13: 53 miles\n",
      "Day 14: 45 miles\n",
      "Day 15: 50 miles\n",
      "Day 16: 55 miles\n",
      "Day 17: 55 miles\n",
      "Day 18: 55 miles\n",
      "Day 19: 55 miles\n",
      "Day 20: 55 miles\n",
      "Day 21: 53 miles\n",
      "Day 22: 57 miles\n",
      "Day 23: 55 miles\n",
      "Day 24: 54 miles\n",
      "Day 25: 55 miles\n",
      "Day 26: 46 miles\n",
      "Day 27: 57 miles\n",
      "Day 28: 53 miles\n",
      "Day 29: 54 miles\n",
      "Day 30: 54 miles\n",
      "Day 31: 52 miles\n",
      "Day 32: 50 miles\n",
      "Day 33: 50 miles\n",
      "Day 34: 55 miles\n",
      "Day 35: 55 miles\n"
     ]
    }
   ],
   "source": [
    "# The aaproach is firstly inserting the original miles record into the array and using np.diff method \n",
    "# to calculate the difference between two items which is the riding miles each day.\n",
    "\n",
    "\n",
    "# function get_each_day_riding is to print each day's riding miles\n",
    "# starting_mile: the starting mile record of odometer\n",
    "# miles_record: the cumulative mile record list\n",
    "\n",
    "def get_each_day_riding(starting_mile, miles_record):\n",
    "    # add the statring_mile to the miles_record for the first item\n",
    "    # in the list\n",
    "    miles_record.insert(0, starting_mile)\n",
    "    # use np.diff to calculate each day's riding mile\n",
    "    each_day_record = np.diff(miles_record)\n",
    "    day = 1\n",
    "    for i in each_day_record:\n",
    "        if i == 0:\n",
    "            print(\"Day \" + str(day) + \": no riding\" )\n",
    "        # print each day's roading miles\n",
    "        else:\n",
    "            print(\"Day \"+ str(day) + \": \" + str(i) + \" miles\")\n",
    "        day += 1\n",
    "\n",
    "# assumption of record\n",
    "odometer_record = [50, 50, 100, 150, 200, 200, 251, 305, 305, 360,\n",
    "                  415, 467, 520, 565, 615, 670, 725, 780, 835, 890,\n",
    "                  943, 1000, 1055, 1109, 1164, 1210, 1267, 1320, 1374,\n",
    "                  1428, 1480, 1530, 1580, 1635, 1690]\n",
    "get_each_day_riding(50, odometer_record)"
   ]
  },
  {
   "cell_type": "markdown",
   "metadata": {},
   "source": [
    "### Q5"
   ]
  },
  {
   "cell_type": "code",
   "execution_count": 6,
   "metadata": {},
   "outputs": [
    {
     "name": "stderr",
     "output_type": "stream",
     "text": [
      "C:\\Users\\Dustin\\Anaconda3\\lib\\site-packages\\ipykernel_launcher.py:8: FutureWarning: Method .as_matrix will be removed in a future version. Use .values instead.\n",
      "  \n"
     ]
    },
    {
     "data": {
      "text/plain": [
       "numpy.ndarray"
      ]
     },
     "execution_count": 6,
     "metadata": {},
     "output_type": "execute_result"
    }
   ],
   "source": [
    "import pandas\n",
    "import numpy as np\n",
    "\n",
    "# supress scientific notation\n",
    "np.set_printoptions(suppress = True)\n",
    "\n",
    "# read the data file from GitHub and convert to a NumPy ndarray object\n",
    "nyc_water = pandas.read_csv('https://raw.githubusercontent.com/jtopor/DAV-5400/master/Week4/Water_Consumption_In_The_New_York_City.csv').as_matrix()\n",
    "\n",
    "# verify you have an ndarray object\n",
    "type(nyc_water)"
   ]
  },
  {
   "cell_type": "markdown",
   "metadata": {},
   "source": [
    "What is the maximum yearly NYC consumption of water in millions of gallons per day?"
   ]
  },
  {
   "cell_type": "code",
   "execution_count": 7,
   "metadata": {},
   "outputs": [
    {
     "data": {
      "text/plain": [
       "1512.0"
      ]
     },
     "execution_count": 7,
     "metadata": {},
     "output_type": "execute_result"
    }
   ],
   "source": [
    "# get maximum value of the third column\n",
    "nyc_water.max(0)[-2]"
   ]
  },
  {
   "cell_type": "markdown",
   "metadata": {},
   "source": [
    "How many calendar years are represented within this data set? NumPy's shape command is one way to find out"
   ]
  },
  {
   "cell_type": "code",
   "execution_count": 8,
   "metadata": {},
   "outputs": [
    {
     "data": {
      "text/plain": [
       "39"
      ]
     },
     "execution_count": 8,
     "metadata": {},
     "output_type": "execute_result"
    }
   ],
   "source": [
    "nyc_water.shape[0]"
   ]
  },
  {
   "cell_type": "markdown",
   "metadata": {},
   "source": [
    "What is the mean and the standard deviation of the per capita daily water consumption?"
   ]
  },
  {
   "cell_type": "code",
   "execution_count": 9,
   "metadata": {},
   "outputs": [
    {
     "name": "stdout",
     "output_type": "stream",
     "text": [
      "Mean of the per capita daily water consumption:  160.30769230769232\n",
      "Standard deviation of the per capita daily water consumption:  31.51894330370624\n"
     ]
    }
   ],
   "source": [
    "print(\"Mean of the per capita daily water consumption: \", np.mean(nyc_water[:, -1]))\n",
    "print(\"Standard deviation of the per capita daily water consumption: \", np.std(nyc_water[:, -1]))"
   ]
  },
  {
   "cell_type": "markdown",
   "metadata": {},
   "source": [
    "What is the increase or decrease in population from year to year? Use NumPy's `diff` function to create an array\n",
    "of differences and save that to a variable called \"pop_diff\", then print that variable to the screen."
   ]
  },
  {
   "cell_type": "code",
   "execution_count": 10,
   "metadata": {},
   "outputs": [
    {
     "data": {
      "text/plain": [
       "array([-30461. ,  17602. ,  19864. ,  72119. ,  53290. ,  39540. ,\n",
       "        45192. ,  23230. ,  11243. ,  -9544. ,  -8525. ,  38851. ,\n",
       "        54443. ,  77222. ,  64292. ,  62582. ,  64772. ,  75631. ,\n",
       "        84816. ,  89401. ,  60618. ,  16685.5,  16685.5,  16685.5,\n",
       "        16685.5,  16685.5,  16685.5,  16685.5,  16685.5,  16685.5,\n",
       "        16685.5, 108965. ,  77081. ,  61281. ,  49530. ,  44512. ,\n",
       "        21171. ,  85025. ])"
      ]
     },
     "execution_count": 10,
     "metadata": {},
     "output_type": "execute_result"
    }
   ],
   "source": [
    "pop_diff = np.diff(nyc_water[:, 1])\n",
    "pop_diff"
   ]
  }
 ],
 "metadata": {
  "kernelspec": {
   "display_name": "Python 3",
   "language": "python",
   "name": "python3"
  },
  "language_info": {
   "codemirror_mode": {
    "name": "ipython",
    "version": 3
   },
   "file_extension": ".py",
   "mimetype": "text/x-python",
   "name": "python",
   "nbconvert_exporter": "python",
   "pygments_lexer": "ipython3",
   "version": "3.7.0"
  }
 },
 "nbformat": 4,
 "nbformat_minor": 2
}
